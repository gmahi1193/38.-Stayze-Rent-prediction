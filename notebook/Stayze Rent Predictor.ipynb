{
 "cells": [
  {
   "cell_type": "markdown",
   "metadata": {},
   "source": [
    "# STAYZE RENT PREDICTOR"
   ]
  },
  {
   "cell_type": "markdown",
   "metadata": {},
   "source": [
    "## Importing required libraries"
   ]
  },
  {
   "cell_type": "code",
   "execution_count": 1,
   "metadata": {},
   "outputs": [],
   "source": [
    "# Basic libraries for EDA\n",
    "import numpy as np\n",
    "import pandas as pd\n",
    "import matplotlib.pyplot as plt\n",
    "import seaborn as sns"
   ]
  },
  {
   "cell_type": "markdown",
   "metadata": {},
   "source": [
    "## Reading the data"
   ]
  },
  {
   "cell_type": "code",
   "execution_count": 2,
   "metadata": {},
   "outputs": [],
   "source": [
    "path = '../data/Train.csv'"
   ]
  },
  {
   "cell_type": "code",
   "execution_count": 3,
   "metadata": {},
   "outputs": [],
   "source": [
    "data = pd.read_csv(path)"
   ]
  },
  {
   "cell_type": "markdown",
   "metadata": {},
   "source": [
    "## Data information"
   ]
  },
  {
   "cell_type": "code",
   "execution_count": 4,
   "metadata": {},
   "outputs": [
    {
     "data": {
      "text/html": [
       "<div>\n",
       "<style scoped>\n",
       "    .dataframe tbody tr th:only-of-type {\n",
       "        vertical-align: middle;\n",
       "    }\n",
       "\n",
       "    .dataframe tbody tr th {\n",
       "        vertical-align: top;\n",
       "    }\n",
       "\n",
       "    .dataframe thead th {\n",
       "        text-align: right;\n",
       "    }\n",
       "</style>\n",
       "<table border=\"1\" class=\"dataframe\">\n",
       "  <thead>\n",
       "    <tr style=\"text-align: right;\">\n",
       "      <th></th>\n",
       "      <th>id</th>\n",
       "      <th>name</th>\n",
       "      <th>host_id</th>\n",
       "      <th>host_name</th>\n",
       "      <th>neighbourhood_group</th>\n",
       "      <th>neighbourhood</th>\n",
       "      <th>latitude</th>\n",
       "      <th>longitude</th>\n",
       "      <th>room_type</th>\n",
       "      <th>price</th>\n",
       "      <th>minimum_nights</th>\n",
       "      <th>number_of_reviews</th>\n",
       "      <th>last_review</th>\n",
       "      <th>reviews_per_month</th>\n",
       "      <th>calculated_host_listings_count</th>\n",
       "      <th>availability_365</th>\n",
       "    </tr>\n",
       "  </thead>\n",
       "  <tbody>\n",
       "    <tr>\n",
       "      <th>0</th>\n",
       "      <td>5728806</td>\n",
       "      <td>Large private room in Nolita</td>\n",
       "      <td>4271676</td>\n",
       "      <td>Nat</td>\n",
       "      <td>Manhattan</td>\n",
       "      <td>Nolita</td>\n",
       "      <td>40.72217</td>\n",
       "      <td>-73.99481</td>\n",
       "      <td>Private room</td>\n",
       "      <td>120</td>\n",
       "      <td>7</td>\n",
       "      <td>3</td>\n",
       "      <td>2015-09-01</td>\n",
       "      <td>0.06</td>\n",
       "      <td>3</td>\n",
       "      <td>0</td>\n",
       "    </tr>\n",
       "    <tr>\n",
       "      <th>1</th>\n",
       "      <td>2243769</td>\n",
       "      <td>Super Bowl New York City Apartment</td>\n",
       "      <td>11460768</td>\n",
       "      <td>Brian</td>\n",
       "      <td>Manhattan</td>\n",
       "      <td>Upper West Side</td>\n",
       "      <td>40.80020</td>\n",
       "      <td>-73.96045</td>\n",
       "      <td>Entire home/apt</td>\n",
       "      <td>1500</td>\n",
       "      <td>1</td>\n",
       "      <td>0</td>\n",
       "      <td>NaN</td>\n",
       "      <td>NaN</td>\n",
       "      <td>1</td>\n",
       "      <td>0</td>\n",
       "    </tr>\n",
       "    <tr>\n",
       "      <th>2</th>\n",
       "      <td>35515415</td>\n",
       "      <td>COZY APT CLOSE TO LGA &amp; JFK AND TRANSPORTATION</td>\n",
       "      <td>267193767</td>\n",
       "      <td>Jenny</td>\n",
       "      <td>Queens</td>\n",
       "      <td>East Elmhurst</td>\n",
       "      <td>40.75558</td>\n",
       "      <td>-73.89316</td>\n",
       "      <td>Entire home/apt</td>\n",
       "      <td>200</td>\n",
       "      <td>2</td>\n",
       "      <td>4</td>\n",
       "      <td>2019-07-05</td>\n",
       "      <td>4.00</td>\n",
       "      <td>1</td>\n",
       "      <td>365</td>\n",
       "    </tr>\n",
       "    <tr>\n",
       "      <th>3</th>\n",
       "      <td>36202006</td>\n",
       "      <td>Stream-Pressed Paradise (Laundry Room Setup)</td>\n",
       "      <td>43392243</td>\n",
       "      <td>Rita</td>\n",
       "      <td>Staten Island</td>\n",
       "      <td>Concord</td>\n",
       "      <td>40.60110</td>\n",
       "      <td>-74.07830</td>\n",
       "      <td>Shared room</td>\n",
       "      <td>30</td>\n",
       "      <td>2</td>\n",
       "      <td>0</td>\n",
       "      <td>NaN</td>\n",
       "      <td>NaN</td>\n",
       "      <td>4</td>\n",
       "      <td>82</td>\n",
       "    </tr>\n",
       "    <tr>\n",
       "      <th>4</th>\n",
       "      <td>3780951</td>\n",
       "      <td>Charming Harlem apartment</td>\n",
       "      <td>16065171</td>\n",
       "      <td>Gina</td>\n",
       "      <td>Manhattan</td>\n",
       "      <td>Harlem</td>\n",
       "      <td>40.81022</td>\n",
       "      <td>-73.94266</td>\n",
       "      <td>Shared room</td>\n",
       "      <td>115</td>\n",
       "      <td>1</td>\n",
       "      <td>16</td>\n",
       "      <td>2019-05-26</td>\n",
       "      <td>0.27</td>\n",
       "      <td>1</td>\n",
       "      <td>365</td>\n",
       "    </tr>\n",
       "  </tbody>\n",
       "</table>\n",
       "</div>"
      ],
      "text/plain": [
       "         id                                            name    host_id  \\\n",
       "0   5728806                    Large private room in Nolita    4271676   \n",
       "1   2243769              Super Bowl New York City Apartment   11460768   \n",
       "2  35515415  COZY APT CLOSE TO LGA & JFK AND TRANSPORTATION  267193767   \n",
       "3  36202006    Stream-Pressed Paradise (Laundry Room Setup)   43392243   \n",
       "4   3780951                       Charming Harlem apartment   16065171   \n",
       "\n",
       "  host_name neighbourhood_group    neighbourhood  latitude  longitude  \\\n",
       "0       Nat           Manhattan           Nolita  40.72217  -73.99481   \n",
       "1     Brian           Manhattan  Upper West Side  40.80020  -73.96045   \n",
       "2     Jenny              Queens    East Elmhurst  40.75558  -73.89316   \n",
       "3      Rita       Staten Island          Concord  40.60110  -74.07830   \n",
       "4      Gina           Manhattan           Harlem  40.81022  -73.94266   \n",
       "\n",
       "         room_type  price  minimum_nights  number_of_reviews last_review  \\\n",
       "0     Private room    120               7                  3  2015-09-01   \n",
       "1  Entire home/apt   1500               1                  0         NaN   \n",
       "2  Entire home/apt    200               2                  4  2019-07-05   \n",
       "3      Shared room     30               2                  0         NaN   \n",
       "4      Shared room    115               1                 16  2019-05-26   \n",
       "\n",
       "   reviews_per_month  calculated_host_listings_count  availability_365  \n",
       "0               0.06                               3                 0  \n",
       "1                NaN                               1                 0  \n",
       "2               4.00                               1               365  \n",
       "3                NaN                               4                82  \n",
       "4               0.27                               1               365  "
      ]
     },
     "execution_count": 4,
     "metadata": {},
     "output_type": "execute_result"
    }
   ],
   "source": [
    "data.head()"
   ]
  },
  {
   "cell_type": "code",
   "execution_count": 5,
   "metadata": {},
   "outputs": [
    {
     "data": {
      "text/html": [
       "<div>\n",
       "<style scoped>\n",
       "    .dataframe tbody tr th:only-of-type {\n",
       "        vertical-align: middle;\n",
       "    }\n",
       "\n",
       "    .dataframe tbody tr th {\n",
       "        vertical-align: top;\n",
       "    }\n",
       "\n",
       "    .dataframe thead th {\n",
       "        text-align: right;\n",
       "    }\n",
       "</style>\n",
       "<table border=\"1\" class=\"dataframe\">\n",
       "  <thead>\n",
       "    <tr style=\"text-align: right;\">\n",
       "      <th></th>\n",
       "      <th>id</th>\n",
       "      <th>name</th>\n",
       "      <th>host_id</th>\n",
       "      <th>host_name</th>\n",
       "      <th>neighbourhood_group</th>\n",
       "      <th>neighbourhood</th>\n",
       "      <th>latitude</th>\n",
       "      <th>longitude</th>\n",
       "      <th>room_type</th>\n",
       "      <th>price</th>\n",
       "      <th>minimum_nights</th>\n",
       "      <th>number_of_reviews</th>\n",
       "      <th>last_review</th>\n",
       "      <th>reviews_per_month</th>\n",
       "      <th>calculated_host_listings_count</th>\n",
       "      <th>availability_365</th>\n",
       "    </tr>\n",
       "  </thead>\n",
       "  <tbody>\n",
       "    <tr>\n",
       "      <th>34221</th>\n",
       "      <td>28342248</td>\n",
       "      <td>Ridgewood retreat</td>\n",
       "      <td>120730056</td>\n",
       "      <td>Sophie</td>\n",
       "      <td>Queens</td>\n",
       "      <td>Ridgewood</td>\n",
       "      <td>40.70602</td>\n",
       "      <td>-73.90485</td>\n",
       "      <td>Entire home/apt</td>\n",
       "      <td>80</td>\n",
       "      <td>5</td>\n",
       "      <td>2</td>\n",
       "      <td>2018-09-30</td>\n",
       "      <td>0.21</td>\n",
       "      <td>1</td>\n",
       "      <td>0</td>\n",
       "    </tr>\n",
       "    <tr>\n",
       "      <th>34222</th>\n",
       "      <td>8438775</td>\n",
       "      <td>Private BR &amp; Bath near Central Park</td>\n",
       "      <td>41042927</td>\n",
       "      <td>Gabi</td>\n",
       "      <td>Manhattan</td>\n",
       "      <td>Upper West Side</td>\n",
       "      <td>40.77697</td>\n",
       "      <td>-73.97698</td>\n",
       "      <td>Private room</td>\n",
       "      <td>137</td>\n",
       "      <td>1</td>\n",
       "      <td>163</td>\n",
       "      <td>2019-06-28</td>\n",
       "      <td>3.55</td>\n",
       "      <td>1</td>\n",
       "      <td>32</td>\n",
       "    </tr>\n",
       "    <tr>\n",
       "      <th>34223</th>\n",
       "      <td>27332770</td>\n",
       "      <td>Warm Home w/ Private Garden (Inwood Manhattan ...</td>\n",
       "      <td>80381355</td>\n",
       "      <td>Mary</td>\n",
       "      <td>Manhattan</td>\n",
       "      <td>Inwood</td>\n",
       "      <td>40.86912</td>\n",
       "      <td>-73.92183</td>\n",
       "      <td>Entire home/apt</td>\n",
       "      <td>195</td>\n",
       "      <td>2</td>\n",
       "      <td>6</td>\n",
       "      <td>2019-03-31</td>\n",
       "      <td>0.53</td>\n",
       "      <td>1</td>\n",
       "      <td>0</td>\n",
       "    </tr>\n",
       "    <tr>\n",
       "      <th>34224</th>\n",
       "      <td>9063972</td>\n",
       "      <td>Chill Bushwick Suite</td>\n",
       "      <td>3040551</td>\n",
       "      <td>Olu Bliss</td>\n",
       "      <td>Brooklyn</td>\n",
       "      <td>Bushwick</td>\n",
       "      <td>40.69709</td>\n",
       "      <td>-73.91435</td>\n",
       "      <td>Private room</td>\n",
       "      <td>80</td>\n",
       "      <td>3</td>\n",
       "      <td>0</td>\n",
       "      <td>NaN</td>\n",
       "      <td>NaN</td>\n",
       "      <td>1</td>\n",
       "      <td>0</td>\n",
       "    </tr>\n",
       "    <tr>\n",
       "      <th>34225</th>\n",
       "      <td>13372860</td>\n",
       "      <td>Cozy and simple Bedstuy studio right by the train</td>\n",
       "      <td>16755566</td>\n",
       "      <td>Ashton</td>\n",
       "      <td>Brooklyn</td>\n",
       "      <td>Bedford-Stuyvesant</td>\n",
       "      <td>40.69076</td>\n",
       "      <td>-73.92886</td>\n",
       "      <td>Entire home/apt</td>\n",
       "      <td>69</td>\n",
       "      <td>4</td>\n",
       "      <td>5</td>\n",
       "      <td>2016-11-23</td>\n",
       "      <td>0.13</td>\n",
       "      <td>1</td>\n",
       "      <td>0</td>\n",
       "    </tr>\n",
       "  </tbody>\n",
       "</table>\n",
       "</div>"
      ],
      "text/plain": [
       "             id                                               name    host_id  \\\n",
       "34221  28342248                                  Ridgewood retreat  120730056   \n",
       "34222   8438775                Private BR & Bath near Central Park   41042927   \n",
       "34223  27332770  Warm Home w/ Private Garden (Inwood Manhattan ...   80381355   \n",
       "34224   9063972                               Chill Bushwick Suite    3040551   \n",
       "34225  13372860  Cozy and simple Bedstuy studio right by the train   16755566   \n",
       "\n",
       "       host_name neighbourhood_group       neighbourhood  latitude  longitude  \\\n",
       "34221     Sophie              Queens           Ridgewood  40.70602  -73.90485   \n",
       "34222       Gabi           Manhattan     Upper West Side  40.77697  -73.97698   \n",
       "34223       Mary           Manhattan              Inwood  40.86912  -73.92183   \n",
       "34224  Olu Bliss            Brooklyn            Bushwick  40.69709  -73.91435   \n",
       "34225     Ashton            Brooklyn  Bedford-Stuyvesant  40.69076  -73.92886   \n",
       "\n",
       "             room_type  price  minimum_nights  number_of_reviews last_review  \\\n",
       "34221  Entire home/apt     80               5                  2  2018-09-30   \n",
       "34222     Private room    137               1                163  2019-06-28   \n",
       "34223  Entire home/apt    195               2                  6  2019-03-31   \n",
       "34224     Private room     80               3                  0         NaN   \n",
       "34225  Entire home/apt     69               4                  5  2016-11-23   \n",
       "\n",
       "       reviews_per_month  calculated_host_listings_count  availability_365  \n",
       "34221               0.21                               1                 0  \n",
       "34222               3.55                               1                32  \n",
       "34223               0.53                               1                 0  \n",
       "34224                NaN                               1                 0  \n",
       "34225               0.13                               1                 0  "
      ]
     },
     "execution_count": 5,
     "metadata": {},
     "output_type": "execute_result"
    }
   ],
   "source": [
    "data.tail()"
   ]
  },
  {
   "cell_type": "code",
   "execution_count": 6,
   "metadata": {},
   "outputs": [
    {
     "name": "stdout",
     "output_type": "stream",
     "text": [
      "<class 'pandas.core.frame.DataFrame'>\n",
      "RangeIndex: 34226 entries, 0 to 34225\n",
      "Data columns (total 16 columns):\n",
      " #   Column                          Non-Null Count  Dtype  \n",
      "---  ------                          --------------  -----  \n",
      " 0   id                              34226 non-null  int64  \n",
      " 1   name                            34214 non-null  object \n",
      " 2   host_id                         34226 non-null  int64  \n",
      " 3   host_name                       34213 non-null  object \n",
      " 4   neighbourhood_group             34226 non-null  object \n",
      " 5   neighbourhood                   34226 non-null  object \n",
      " 6   latitude                        34226 non-null  float64\n",
      " 7   longitude                       34226 non-null  float64\n",
      " 8   room_type                       34226 non-null  object \n",
      " 9   price                           34226 non-null  int64  \n",
      " 10  minimum_nights                  34226 non-null  int64  \n",
      " 11  number_of_reviews               34226 non-null  int64  \n",
      " 12  last_review                     27244 non-null  object \n",
      " 13  reviews_per_month               27244 non-null  float64\n",
      " 14  calculated_host_listings_count  34226 non-null  int64  \n",
      " 15  availability_365                34226 non-null  int64  \n",
      "dtypes: float64(3), int64(7), object(6)\n",
      "memory usage: 4.2+ MB\n"
     ]
    }
   ],
   "source": [
    "data.info()"
   ]
  },
  {
   "cell_type": "code",
   "execution_count": 7,
   "metadata": {},
   "outputs": [
    {
     "data": {
      "text/html": [
       "<div>\n",
       "<style scoped>\n",
       "    .dataframe tbody tr th:only-of-type {\n",
       "        vertical-align: middle;\n",
       "    }\n",
       "\n",
       "    .dataframe tbody tr th {\n",
       "        vertical-align: top;\n",
       "    }\n",
       "\n",
       "    .dataframe thead th {\n",
       "        text-align: right;\n",
       "    }\n",
       "</style>\n",
       "<table border=\"1\" class=\"dataframe\">\n",
       "  <thead>\n",
       "    <tr style=\"text-align: right;\">\n",
       "      <th></th>\n",
       "      <th>id</th>\n",
       "      <th>host_id</th>\n",
       "      <th>latitude</th>\n",
       "      <th>longitude</th>\n",
       "      <th>price</th>\n",
       "      <th>minimum_nights</th>\n",
       "      <th>number_of_reviews</th>\n",
       "      <th>reviews_per_month</th>\n",
       "      <th>calculated_host_listings_count</th>\n",
       "      <th>availability_365</th>\n",
       "    </tr>\n",
       "  </thead>\n",
       "  <tbody>\n",
       "    <tr>\n",
       "      <th>count</th>\n",
       "      <td>3.422600e+04</td>\n",
       "      <td>3.422600e+04</td>\n",
       "      <td>34226.000000</td>\n",
       "      <td>34226.000000</td>\n",
       "      <td>34226.000000</td>\n",
       "      <td>34226.000000</td>\n",
       "      <td>34226.000000</td>\n",
       "      <td>27244.000000</td>\n",
       "      <td>34226.000000</td>\n",
       "      <td>34226.000000</td>\n",
       "    </tr>\n",
       "    <tr>\n",
       "      <th>mean</th>\n",
       "      <td>1.898209e+07</td>\n",
       "      <td>6.733847e+07</td>\n",
       "      <td>40.729059</td>\n",
       "      <td>-73.952070</td>\n",
       "      <td>153.480979</td>\n",
       "      <td>6.953690</td>\n",
       "      <td>23.390931</td>\n",
       "      <td>1.377074</td>\n",
       "      <td>7.093905</td>\n",
       "      <td>113.301730</td>\n",
       "    </tr>\n",
       "    <tr>\n",
       "      <th>std</th>\n",
       "      <td>1.097597e+07</td>\n",
       "      <td>7.833091e+07</td>\n",
       "      <td>0.054604</td>\n",
       "      <td>0.046161</td>\n",
       "      <td>243.312608</td>\n",
       "      <td>20.255833</td>\n",
       "      <td>44.476822</td>\n",
       "      <td>1.688953</td>\n",
       "      <td>32.828412</td>\n",
       "      <td>131.892814</td>\n",
       "    </tr>\n",
       "    <tr>\n",
       "      <th>min</th>\n",
       "      <td>2.595000e+03</td>\n",
       "      <td>2.438000e+03</td>\n",
       "      <td>40.499790</td>\n",
       "      <td>-74.244420</td>\n",
       "      <td>0.000000</td>\n",
       "      <td>1.000000</td>\n",
       "      <td>0.000000</td>\n",
       "      <td>0.010000</td>\n",
       "      <td>1.000000</td>\n",
       "      <td>0.000000</td>\n",
       "    </tr>\n",
       "    <tr>\n",
       "      <th>25%</th>\n",
       "      <td>9.460366e+06</td>\n",
       "      <td>7.824440e+06</td>\n",
       "      <td>40.690040</td>\n",
       "      <td>-73.983150</td>\n",
       "      <td>69.000000</td>\n",
       "      <td>1.000000</td>\n",
       "      <td>1.000000</td>\n",
       "      <td>0.190000</td>\n",
       "      <td>1.000000</td>\n",
       "      <td>0.000000</td>\n",
       "    </tr>\n",
       "    <tr>\n",
       "      <th>50%</th>\n",
       "      <td>1.965371e+07</td>\n",
       "      <td>3.065628e+07</td>\n",
       "      <td>40.722995</td>\n",
       "      <td>-73.955700</td>\n",
       "      <td>107.000000</td>\n",
       "      <td>2.000000</td>\n",
       "      <td>5.000000</td>\n",
       "      <td>0.730000</td>\n",
       "      <td>1.000000</td>\n",
       "      <td>45.000000</td>\n",
       "    </tr>\n",
       "    <tr>\n",
       "      <th>75%</th>\n",
       "      <td>2.908201e+07</td>\n",
       "      <td>1.074344e+08</td>\n",
       "      <td>40.763200</td>\n",
       "      <td>-73.935982</td>\n",
       "      <td>175.000000</td>\n",
       "      <td>5.000000</td>\n",
       "      <td>24.000000</td>\n",
       "      <td>2.020000</td>\n",
       "      <td>2.000000</td>\n",
       "      <td>229.000000</td>\n",
       "    </tr>\n",
       "    <tr>\n",
       "      <th>max</th>\n",
       "      <td>3.648724e+07</td>\n",
       "      <td>2.743115e+08</td>\n",
       "      <td>40.913060</td>\n",
       "      <td>-73.712990</td>\n",
       "      <td>10000.000000</td>\n",
       "      <td>1250.000000</td>\n",
       "      <td>629.000000</td>\n",
       "      <td>58.500000</td>\n",
       "      <td>327.000000</td>\n",
       "      <td>365.000000</td>\n",
       "    </tr>\n",
       "  </tbody>\n",
       "</table>\n",
       "</div>"
      ],
      "text/plain": [
       "                 id       host_id      latitude     longitude         price  \\\n",
       "count  3.422600e+04  3.422600e+04  34226.000000  34226.000000  34226.000000   \n",
       "mean   1.898209e+07  6.733847e+07     40.729059    -73.952070    153.480979   \n",
       "std    1.097597e+07  7.833091e+07      0.054604      0.046161    243.312608   \n",
       "min    2.595000e+03  2.438000e+03     40.499790    -74.244420      0.000000   \n",
       "25%    9.460366e+06  7.824440e+06     40.690040    -73.983150     69.000000   \n",
       "50%    1.965371e+07  3.065628e+07     40.722995    -73.955700    107.000000   \n",
       "75%    2.908201e+07  1.074344e+08     40.763200    -73.935982    175.000000   \n",
       "max    3.648724e+07  2.743115e+08     40.913060    -73.712990  10000.000000   \n",
       "\n",
       "       minimum_nights  number_of_reviews  reviews_per_month  \\\n",
       "count    34226.000000       34226.000000       27244.000000   \n",
       "mean         6.953690          23.390931           1.377074   \n",
       "std         20.255833          44.476822           1.688953   \n",
       "min          1.000000           0.000000           0.010000   \n",
       "25%          1.000000           1.000000           0.190000   \n",
       "50%          2.000000           5.000000           0.730000   \n",
       "75%          5.000000          24.000000           2.020000   \n",
       "max       1250.000000         629.000000          58.500000   \n",
       "\n",
       "       calculated_host_listings_count  availability_365  \n",
       "count                    34226.000000      34226.000000  \n",
       "mean                         7.093905        113.301730  \n",
       "std                         32.828412        131.892814  \n",
       "min                          1.000000          0.000000  \n",
       "25%                          1.000000          0.000000  \n",
       "50%                          1.000000         45.000000  \n",
       "75%                          2.000000        229.000000  \n",
       "max                        327.000000        365.000000  "
      ]
     },
     "execution_count": 7,
     "metadata": {},
     "output_type": "execute_result"
    }
   ],
   "source": [
    "data.describe()"
   ]
  },
  {
   "cell_type": "code",
   "execution_count": 8,
   "metadata": {},
   "outputs": [
    {
     "data": {
      "text/plain": [
       "id                                   0\n",
       "name                                12\n",
       "host_id                              0\n",
       "host_name                           13\n",
       "neighbourhood_group                  0\n",
       "neighbourhood                        0\n",
       "latitude                             0\n",
       "longitude                            0\n",
       "room_type                            0\n",
       "price                                0\n",
       "minimum_nights                       0\n",
       "number_of_reviews                    0\n",
       "last_review                       6982\n",
       "reviews_per_month                 6982\n",
       "calculated_host_listings_count       0\n",
       "availability_365                     0\n",
       "dtype: int64"
      ]
     },
     "execution_count": 8,
     "metadata": {},
     "output_type": "execute_result"
    }
   ],
   "source": [
    "data.isnull().sum()"
   ]
  },
  {
   "cell_type": "markdown",
   "metadata": {},
   "source": [
    "## Data Cleaning and EDA"
   ]
  },
  {
   "cell_type": "markdown",
   "metadata": {},
   "source": [
    "## Checking if null names can be recovered from id or not ?"
   ]
  },
  {
   "cell_type": "code",
   "execution_count": 9,
   "metadata": {},
   "outputs": [
    {
     "name": "stdout",
     "output_type": "stream",
     "text": [
      "False    34214\n",
      "Name: 0, dtype: int64\n",
      "34214\n"
     ]
    }
   ],
   "source": [
    "# checking for name if recovarable from id\n",
    "missing_names = data[data['name'].isnull()]['id'].tolist()\n",
    "non_missing_names = data[data['name'].notnull()]['id'].tolist()\n",
    "print(pd.DataFrame(np.isin(non_missing_names,missing_names))[0].value_counts())\n",
    "print(len(non_missing_names))\n",
    "# no name can be recovered from id."
   ]
  },
  {
   "cell_type": "markdown",
   "metadata": {},
   "source": [
    "## Filling missing names with 'Anonymous Place'"
   ]
  },
  {
   "cell_type": "code",
   "execution_count": 10,
   "metadata": {},
   "outputs": [],
   "source": [
    "data.name.fillna('Anonymous Place',inplace = True)"
   ]
  },
  {
   "cell_type": "markdown",
   "metadata": {},
   "source": [
    "## Checking to confirm the same host id has same host name"
   ]
  },
  {
   "cell_type": "code",
   "execution_count": 11,
   "metadata": {},
   "outputs": [
    {
     "data": {
      "text/plain": [
       "219517861    229\n",
       "107434423    155\n",
       "30283594      89\n",
       "16098958      73\n",
       "61391963      69\n",
       "            ... \n",
       "24031106       1\n",
       "35031188       1\n",
       "6004860        1\n",
       "713764         1\n",
       "16755566       1\n",
       "Name: host_id, Length: 27449, dtype: int64"
      ]
     },
     "execution_count": 11,
     "metadata": {},
     "output_type": "execute_result"
    }
   ],
   "source": [
    "data['host_id'].value_counts()"
   ]
  },
  {
   "cell_type": "code",
   "execution_count": 12,
   "metadata": {},
   "outputs": [
    {
     "data": {
      "text/html": [
       "<div>\n",
       "<style scoped>\n",
       "    .dataframe tbody tr th:only-of-type {\n",
       "        vertical-align: middle;\n",
       "    }\n",
       "\n",
       "    .dataframe tbody tr th {\n",
       "        vertical-align: top;\n",
       "    }\n",
       "\n",
       "    .dataframe thead th {\n",
       "        text-align: right;\n",
       "    }\n",
       "</style>\n",
       "<table border=\"1\" class=\"dataframe\">\n",
       "  <thead>\n",
       "    <tr style=\"text-align: right;\">\n",
       "      <th></th>\n",
       "      <th>id</th>\n",
       "      <th>name</th>\n",
       "      <th>host_id</th>\n",
       "      <th>host_name</th>\n",
       "      <th>neighbourhood_group</th>\n",
       "      <th>neighbourhood</th>\n",
       "      <th>latitude</th>\n",
       "      <th>longitude</th>\n",
       "      <th>room_type</th>\n",
       "      <th>price</th>\n",
       "      <th>minimum_nights</th>\n",
       "      <th>number_of_reviews</th>\n",
       "      <th>last_review</th>\n",
       "      <th>reviews_per_month</th>\n",
       "      <th>calculated_host_listings_count</th>\n",
       "      <th>availability_365</th>\n",
       "    </tr>\n",
       "  </thead>\n",
       "  <tbody>\n",
       "    <tr>\n",
       "      <th>162</th>\n",
       "      <td>36309944</td>\n",
       "      <td>Lavish 1br apartment in New York's Upper East ...</td>\n",
       "      <td>30283594</td>\n",
       "      <td>Kara</td>\n",
       "      <td>Manhattan</td>\n",
       "      <td>Upper East Side</td>\n",
       "      <td>40.76288</td>\n",
       "      <td>-73.95828</td>\n",
       "      <td>Entire home/apt</td>\n",
       "      <td>269</td>\n",
       "      <td>30</td>\n",
       "      <td>0</td>\n",
       "      <td>NaN</td>\n",
       "      <td>NaN</td>\n",
       "      <td>121</td>\n",
       "      <td>333</td>\n",
       "    </tr>\n",
       "    <tr>\n",
       "      <th>805</th>\n",
       "      <td>12089013</td>\n",
       "      <td>NYC MIDTOWN WEST LUXURY 1BR APT! CITY VIEWS!</td>\n",
       "      <td>30283594</td>\n",
       "      <td>Kara</td>\n",
       "      <td>Manhattan</td>\n",
       "      <td>Midtown</td>\n",
       "      <td>40.76545</td>\n",
       "      <td>-73.98156</td>\n",
       "      <td>Entire home/apt</td>\n",
       "      <td>239</td>\n",
       "      <td>30</td>\n",
       "      <td>1</td>\n",
       "      <td>2019-02-28</td>\n",
       "      <td>0.23</td>\n",
       "      <td>121</td>\n",
       "      <td>351</td>\n",
       "    </tr>\n",
       "    <tr>\n",
       "      <th>815</th>\n",
       "      <td>8320129</td>\n",
       "      <td>Cozy Studio Apt Upper East Side Near Hospitals</td>\n",
       "      <td>30283594</td>\n",
       "      <td>Kara</td>\n",
       "      <td>Manhattan</td>\n",
       "      <td>Upper East Side</td>\n",
       "      <td>40.76137</td>\n",
       "      <td>-73.96042</td>\n",
       "      <td>Entire home/apt</td>\n",
       "      <td>199</td>\n",
       "      <td>30</td>\n",
       "      <td>3</td>\n",
       "      <td>2018-04-22</td>\n",
       "      <td>0.11</td>\n",
       "      <td>121</td>\n",
       "      <td>365</td>\n",
       "    </tr>\n",
       "    <tr>\n",
       "      <th>1404</th>\n",
       "      <td>9043722</td>\n",
       "      <td>Lavish 1BR in FiDi + city views</td>\n",
       "      <td>30283594</td>\n",
       "      <td>Kara</td>\n",
       "      <td>Manhattan</td>\n",
       "      <td>Financial District</td>\n",
       "      <td>40.70574</td>\n",
       "      <td>-74.00809</td>\n",
       "      <td>Entire home/apt</td>\n",
       "      <td>239</td>\n",
       "      <td>30</td>\n",
       "      <td>2</td>\n",
       "      <td>2018-06-10</td>\n",
       "      <td>0.09</td>\n",
       "      <td>121</td>\n",
       "      <td>186</td>\n",
       "    </tr>\n",
       "    <tr>\n",
       "      <th>1556</th>\n",
       "      <td>9881685</td>\n",
       "      <td>Upscale and spacious 2bed/2bath Midtown West apt.</td>\n",
       "      <td>30283594</td>\n",
       "      <td>Kara</td>\n",
       "      <td>Manhattan</td>\n",
       "      <td>Midtown</td>\n",
       "      <td>40.76665</td>\n",
       "      <td>-73.98281</td>\n",
       "      <td>Entire home/apt</td>\n",
       "      <td>190</td>\n",
       "      <td>30</td>\n",
       "      <td>1</td>\n",
       "      <td>2017-04-30</td>\n",
       "      <td>0.04</td>\n",
       "      <td>121</td>\n",
       "      <td>286</td>\n",
       "    </tr>\n",
       "  </tbody>\n",
       "</table>\n",
       "</div>"
      ],
      "text/plain": [
       "            id                                               name   host_id  \\\n",
       "162   36309944  Lavish 1br apartment in New York's Upper East ...  30283594   \n",
       "805   12089013       NYC MIDTOWN WEST LUXURY 1BR APT! CITY VIEWS!  30283594   \n",
       "815    8320129     Cozy Studio Apt Upper East Side Near Hospitals  30283594   \n",
       "1404   9043722                    Lavish 1BR in FiDi + city views  30283594   \n",
       "1556   9881685  Upscale and spacious 2bed/2bath Midtown West apt.  30283594   \n",
       "\n",
       "     host_name neighbourhood_group       neighbourhood  latitude  longitude  \\\n",
       "162       Kara           Manhattan     Upper East Side  40.76288  -73.95828   \n",
       "805       Kara           Manhattan             Midtown  40.76545  -73.98156   \n",
       "815       Kara           Manhattan     Upper East Side  40.76137  -73.96042   \n",
       "1404      Kara           Manhattan  Financial District  40.70574  -74.00809   \n",
       "1556      Kara           Manhattan             Midtown  40.76665  -73.98281   \n",
       "\n",
       "            room_type  price  minimum_nights  number_of_reviews last_review  \\\n",
       "162   Entire home/apt    269              30                  0         NaN   \n",
       "805   Entire home/apt    239              30                  1  2019-02-28   \n",
       "815   Entire home/apt    199              30                  3  2018-04-22   \n",
       "1404  Entire home/apt    239              30                  2  2018-06-10   \n",
       "1556  Entire home/apt    190              30                  1  2017-04-30   \n",
       "\n",
       "      reviews_per_month  calculated_host_listings_count  availability_365  \n",
       "162                 NaN                             121               333  \n",
       "805                0.23                             121               351  \n",
       "815                0.11                             121               365  \n",
       "1404               0.09                             121               186  \n",
       "1556               0.04                             121               286  "
      ]
     },
     "execution_count": 12,
     "metadata": {},
     "output_type": "execute_result"
    }
   ],
   "source": [
    "data[data['host_id'] == 30283594][:5]"
   ]
  },
  {
   "cell_type": "markdown",
   "metadata": {},
   "source": [
    "## Checking if null host_names can be recovered from host_id or not ?"
   ]
  },
  {
   "cell_type": "code",
   "execution_count": 13,
   "metadata": {},
   "outputs": [
    {
     "name": "stdout",
     "output_type": "stream",
     "text": [
      "False    34213\n",
      "Name: 0, dtype: int64\n",
      "34213\n"
     ]
    }
   ],
   "source": [
    "# checking for host_name if recovarable from host_id\n",
    "missing_host_names = data[data['host_name'].isnull()]['host_id'].tolist()\n",
    "non_missing_host_names = data[data['host_name'].notnull()]['host_id'].tolist()\n",
    "print(pd.DataFrame(np.isin(non_missing_host_names,missing_host_names))[0].value_counts())\n",
    "print(len(non_missing_host_names))\n",
    "# no name can be recovered from id."
   ]
  },
  {
   "cell_type": "code",
   "execution_count": 14,
   "metadata": {},
   "outputs": [
    {
     "data": {
      "text/html": [
       "<div>\n",
       "<style scoped>\n",
       "    .dataframe tbody tr th:only-of-type {\n",
       "        vertical-align: middle;\n",
       "    }\n",
       "\n",
       "    .dataframe tbody tr th {\n",
       "        vertical-align: top;\n",
       "    }\n",
       "\n",
       "    .dataframe thead th {\n",
       "        text-align: right;\n",
       "    }\n",
       "</style>\n",
       "<table border=\"1\" class=\"dataframe\">\n",
       "  <thead>\n",
       "    <tr style=\"text-align: right;\">\n",
       "      <th></th>\n",
       "      <th>id</th>\n",
       "      <th>name</th>\n",
       "      <th>host_id</th>\n",
       "      <th>host_name</th>\n",
       "      <th>neighbourhood_group</th>\n",
       "      <th>neighbourhood</th>\n",
       "      <th>latitude</th>\n",
       "      <th>longitude</th>\n",
       "      <th>room_type</th>\n",
       "      <th>price</th>\n",
       "      <th>minimum_nights</th>\n",
       "      <th>number_of_reviews</th>\n",
       "      <th>last_review</th>\n",
       "      <th>reviews_per_month</th>\n",
       "      <th>calculated_host_listings_count</th>\n",
       "      <th>availability_365</th>\n",
       "    </tr>\n",
       "  </thead>\n",
       "  <tbody>\n",
       "    <tr>\n",
       "      <th>740</th>\n",
       "      <td>30468335</td>\n",
       "      <td>LARGE Prospect Lefferts Gardens Bedroom</td>\n",
       "      <td>228750026</td>\n",
       "      <td>NaN</td>\n",
       "      <td>Brooklyn</td>\n",
       "      <td>Flatbush</td>\n",
       "      <td>40.65152</td>\n",
       "      <td>-73.95271</td>\n",
       "      <td>Private room</td>\n",
       "      <td>55</td>\n",
       "      <td>7</td>\n",
       "      <td>0</td>\n",
       "      <td>NaN</td>\n",
       "      <td>NaN</td>\n",
       "      <td>1</td>\n",
       "      <td>69</td>\n",
       "    </tr>\n",
       "    <tr>\n",
       "      <th>2916</th>\n",
       "      <td>6992973</td>\n",
       "      <td>1 Bedroom in Prime Williamsburg</td>\n",
       "      <td>5162530</td>\n",
       "      <td>NaN</td>\n",
       "      <td>Brooklyn</td>\n",
       "      <td>Williamsburg</td>\n",
       "      <td>40.71838</td>\n",
       "      <td>-73.95630</td>\n",
       "      <td>Entire home/apt</td>\n",
       "      <td>145</td>\n",
       "      <td>1</td>\n",
       "      <td>0</td>\n",
       "      <td>NaN</td>\n",
       "      <td>NaN</td>\n",
       "      <td>1</td>\n",
       "      <td>0</td>\n",
       "    </tr>\n",
       "    <tr>\n",
       "      <th>6635</th>\n",
       "      <td>11553543</td>\n",
       "      <td>Cozy Room Astoria</td>\n",
       "      <td>26138712</td>\n",
       "      <td>NaN</td>\n",
       "      <td>Queens</td>\n",
       "      <td>Ditmars Steinway</td>\n",
       "      <td>40.77587</td>\n",
       "      <td>-73.91775</td>\n",
       "      <td>Private room</td>\n",
       "      <td>45</td>\n",
       "      <td>1</td>\n",
       "      <td>5</td>\n",
       "      <td>2017-01-01</td>\n",
       "      <td>0.13</td>\n",
       "      <td>1</td>\n",
       "      <td>0</td>\n",
       "    </tr>\n",
       "    <tr>\n",
       "      <th>8762</th>\n",
       "      <td>1449546</td>\n",
       "      <td>Cozy Studio in Flatbush</td>\n",
       "      <td>7779204</td>\n",
       "      <td>NaN</td>\n",
       "      <td>Brooklyn</td>\n",
       "      <td>Flatbush</td>\n",
       "      <td>40.64965</td>\n",
       "      <td>-73.96154</td>\n",
       "      <td>Entire home/apt</td>\n",
       "      <td>100</td>\n",
       "      <td>30</td>\n",
       "      <td>49</td>\n",
       "      <td>2017-01-02</td>\n",
       "      <td>0.69</td>\n",
       "      <td>1</td>\n",
       "      <td>342</td>\n",
       "    </tr>\n",
       "    <tr>\n",
       "      <th>9995</th>\n",
       "      <td>100184</td>\n",
       "      <td>Bienvenue</td>\n",
       "      <td>526653</td>\n",
       "      <td>NaN</td>\n",
       "      <td>Queens</td>\n",
       "      <td>Queens Village</td>\n",
       "      <td>40.72413</td>\n",
       "      <td>-73.76133</td>\n",
       "      <td>Private room</td>\n",
       "      <td>50</td>\n",
       "      <td>1</td>\n",
       "      <td>43</td>\n",
       "      <td>2019-07-08</td>\n",
       "      <td>0.45</td>\n",
       "      <td>1</td>\n",
       "      <td>88</td>\n",
       "    </tr>\n",
       "    <tr>\n",
       "      <th>13269</th>\n",
       "      <td>12113879</td>\n",
       "      <td>Sunny, Large West Village 1 BR Near Everything</td>\n",
       "      <td>5300585</td>\n",
       "      <td>NaN</td>\n",
       "      <td>Manhattan</td>\n",
       "      <td>Chelsea</td>\n",
       "      <td>40.73949</td>\n",
       "      <td>-73.99801</td>\n",
       "      <td>Entire home/apt</td>\n",
       "      <td>220</td>\n",
       "      <td>4</td>\n",
       "      <td>81</td>\n",
       "      <td>2019-07-02</td>\n",
       "      <td>2.11</td>\n",
       "      <td>1</td>\n",
       "      <td>217</td>\n",
       "    </tr>\n",
       "    <tr>\n",
       "      <th>16369</th>\n",
       "      <td>7556587</td>\n",
       "      <td>Sunny Room in Harlem</td>\n",
       "      <td>39608626</td>\n",
       "      <td>NaN</td>\n",
       "      <td>Manhattan</td>\n",
       "      <td>Harlem</td>\n",
       "      <td>40.82929</td>\n",
       "      <td>-73.94182</td>\n",
       "      <td>Private room</td>\n",
       "      <td>28</td>\n",
       "      <td>1</td>\n",
       "      <td>1</td>\n",
       "      <td>2015-08-01</td>\n",
       "      <td>0.02</td>\n",
       "      <td>1</td>\n",
       "      <td>0</td>\n",
       "    </tr>\n",
       "    <tr>\n",
       "      <th>18200</th>\n",
       "      <td>15648096</td>\n",
       "      <td>Spacious 2 bedroom close to Manhattan</td>\n",
       "      <td>100971588</td>\n",
       "      <td>NaN</td>\n",
       "      <td>Bronx</td>\n",
       "      <td>Highbridge</td>\n",
       "      <td>40.83844</td>\n",
       "      <td>-73.92489</td>\n",
       "      <td>Entire home/apt</td>\n",
       "      <td>75</td>\n",
       "      <td>4</td>\n",
       "      <td>37</td>\n",
       "      <td>2019-07-07</td>\n",
       "      <td>1.21</td>\n",
       "      <td>1</td>\n",
       "      <td>26</td>\n",
       "    </tr>\n",
       "    <tr>\n",
       "      <th>20097</th>\n",
       "      <td>21787094</td>\n",
       "      <td>Spacious and Bright Midtown East Apartment</td>\n",
       "      <td>415290</td>\n",
       "      <td>NaN</td>\n",
       "      <td>Manhattan</td>\n",
       "      <td>Upper East Side</td>\n",
       "      <td>40.76436</td>\n",
       "      <td>-73.96836</td>\n",
       "      <td>Entire home/apt</td>\n",
       "      <td>325</td>\n",
       "      <td>1</td>\n",
       "      <td>0</td>\n",
       "      <td>NaN</td>\n",
       "      <td>NaN</td>\n",
       "      <td>1</td>\n",
       "      <td>0</td>\n",
       "    </tr>\n",
       "    <tr>\n",
       "      <th>20221</th>\n",
       "      <td>23660605</td>\n",
       "      <td>Private Bedroom w/ Balcony view of Central Park</td>\n",
       "      <td>177146433</td>\n",
       "      <td>NaN</td>\n",
       "      <td>Manhattan</td>\n",
       "      <td>East Harlem</td>\n",
       "      <td>40.79766</td>\n",
       "      <td>-73.94824</td>\n",
       "      <td>Private room</td>\n",
       "      <td>139</td>\n",
       "      <td>1</td>\n",
       "      <td>6</td>\n",
       "      <td>2018-08-12</td>\n",
       "      <td>0.46</td>\n",
       "      <td>1</td>\n",
       "      <td>0</td>\n",
       "    </tr>\n",
       "    <tr>\n",
       "      <th>29979</th>\n",
       "      <td>25180572</td>\n",
       "      <td>Beautiful Cozy Studio Apt. UWS</td>\n",
       "      <td>119609345</td>\n",
       "      <td>NaN</td>\n",
       "      <td>Manhattan</td>\n",
       "      <td>Upper West Side</td>\n",
       "      <td>40.77701</td>\n",
       "      <td>-73.97667</td>\n",
       "      <td>Entire home/apt</td>\n",
       "      <td>180</td>\n",
       "      <td>4</td>\n",
       "      <td>0</td>\n",
       "      <td>NaN</td>\n",
       "      <td>NaN</td>\n",
       "      <td>1</td>\n",
       "      <td>0</td>\n",
       "    </tr>\n",
       "    <tr>\n",
       "      <th>32521</th>\n",
       "      <td>21867710</td>\n",
       "      <td>Amazing room in the centre on Manhatten! Welcome!</td>\n",
       "      <td>159156636</td>\n",
       "      <td>NaN</td>\n",
       "      <td>Manhattan</td>\n",
       "      <td>Hell's Kitchen</td>\n",
       "      <td>40.75668</td>\n",
       "      <td>-73.99097</td>\n",
       "      <td>Private room</td>\n",
       "      <td>120</td>\n",
       "      <td>1</td>\n",
       "      <td>89</td>\n",
       "      <td>2019-01-01</td>\n",
       "      <td>5.16</td>\n",
       "      <td>3</td>\n",
       "      <td>0</td>\n",
       "    </tr>\n",
       "    <tr>\n",
       "      <th>33793</th>\n",
       "      <td>4763327</td>\n",
       "      <td>Luxurious, best location, spa inc'l</td>\n",
       "      <td>24576978</td>\n",
       "      <td>NaN</td>\n",
       "      <td>Brooklyn</td>\n",
       "      <td>Greenpoint</td>\n",
       "      <td>40.72035</td>\n",
       "      <td>-73.95355</td>\n",
       "      <td>Entire home/apt</td>\n",
       "      <td>195</td>\n",
       "      <td>1</td>\n",
       "      <td>1</td>\n",
       "      <td>2015-10-20</td>\n",
       "      <td>0.02</td>\n",
       "      <td>1</td>\n",
       "      <td>0</td>\n",
       "    </tr>\n",
       "  </tbody>\n",
       "</table>\n",
       "</div>"
      ],
      "text/plain": [
       "             id                                               name    host_id  \\\n",
       "740    30468335            LARGE Prospect Lefferts Gardens Bedroom  228750026   \n",
       "2916    6992973                    1 Bedroom in Prime Williamsburg    5162530   \n",
       "6635   11553543                                  Cozy Room Astoria   26138712   \n",
       "8762    1449546                            Cozy Studio in Flatbush    7779204   \n",
       "9995     100184                                          Bienvenue     526653   \n",
       "13269  12113879     Sunny, Large West Village 1 BR Near Everything    5300585   \n",
       "16369   7556587                               Sunny Room in Harlem   39608626   \n",
       "18200  15648096              Spacious 2 bedroom close to Manhattan  100971588   \n",
       "20097  21787094         Spacious and Bright Midtown East Apartment     415290   \n",
       "20221  23660605    Private Bedroom w/ Balcony view of Central Park  177146433   \n",
       "29979  25180572                     Beautiful Cozy Studio Apt. UWS  119609345   \n",
       "32521  21867710  Amazing room in the centre on Manhatten! Welcome!  159156636   \n",
       "33793   4763327                Luxurious, best location, spa inc'l   24576978   \n",
       "\n",
       "      host_name neighbourhood_group     neighbourhood  latitude  longitude  \\\n",
       "740         NaN            Brooklyn          Flatbush  40.65152  -73.95271   \n",
       "2916        NaN            Brooklyn      Williamsburg  40.71838  -73.95630   \n",
       "6635        NaN              Queens  Ditmars Steinway  40.77587  -73.91775   \n",
       "8762        NaN            Brooklyn          Flatbush  40.64965  -73.96154   \n",
       "9995        NaN              Queens    Queens Village  40.72413  -73.76133   \n",
       "13269       NaN           Manhattan           Chelsea  40.73949  -73.99801   \n",
       "16369       NaN           Manhattan            Harlem  40.82929  -73.94182   \n",
       "18200       NaN               Bronx        Highbridge  40.83844  -73.92489   \n",
       "20097       NaN           Manhattan   Upper East Side  40.76436  -73.96836   \n",
       "20221       NaN           Manhattan       East Harlem  40.79766  -73.94824   \n",
       "29979       NaN           Manhattan   Upper West Side  40.77701  -73.97667   \n",
       "32521       NaN           Manhattan    Hell's Kitchen  40.75668  -73.99097   \n",
       "33793       NaN            Brooklyn        Greenpoint  40.72035  -73.95355   \n",
       "\n",
       "             room_type  price  minimum_nights  number_of_reviews last_review  \\\n",
       "740       Private room     55               7                  0         NaN   \n",
       "2916   Entire home/apt    145               1                  0         NaN   \n",
       "6635      Private room     45               1                  5  2017-01-01   \n",
       "8762   Entire home/apt    100              30                 49  2017-01-02   \n",
       "9995      Private room     50               1                 43  2019-07-08   \n",
       "13269  Entire home/apt    220               4                 81  2019-07-02   \n",
       "16369     Private room     28               1                  1  2015-08-01   \n",
       "18200  Entire home/apt     75               4                 37  2019-07-07   \n",
       "20097  Entire home/apt    325               1                  0         NaN   \n",
       "20221     Private room    139               1                  6  2018-08-12   \n",
       "29979  Entire home/apt    180               4                  0         NaN   \n",
       "32521     Private room    120               1                 89  2019-01-01   \n",
       "33793  Entire home/apt    195               1                  1  2015-10-20   \n",
       "\n",
       "       reviews_per_month  calculated_host_listings_count  availability_365  \n",
       "740                  NaN                               1                69  \n",
       "2916                 NaN                               1                 0  \n",
       "6635                0.13                               1                 0  \n",
       "8762                0.69                               1               342  \n",
       "9995                0.45                               1                88  \n",
       "13269               2.11                               1               217  \n",
       "16369               0.02                               1                 0  \n",
       "18200               1.21                               1                26  \n",
       "20097                NaN                               1                 0  \n",
       "20221               0.46                               1                 0  \n",
       "29979                NaN                               1                 0  \n",
       "32521               5.16                               3                 0  \n",
       "33793               0.02                               1                 0  "
      ]
     },
     "execution_count": 14,
     "metadata": {},
     "output_type": "execute_result"
    }
   ],
   "source": [
    "data[data['host_name'].isnull()]"
   ]
  },
  {
   "cell_type": "markdown",
   "metadata": {},
   "source": [
    "## Filling missing host_name with 'Anonymous Host'"
   ]
  },
  {
   "cell_type": "code",
   "execution_count": 15,
   "metadata": {},
   "outputs": [],
   "source": [
    "data.host_name.fillna('Anonymous Host', inplace = True)"
   ]
  },
  {
   "cell_type": "markdown",
   "metadata": {},
   "source": [
    "## Again check for null values"
   ]
  },
  {
   "cell_type": "code",
   "execution_count": 16,
   "metadata": {},
   "outputs": [
    {
     "data": {
      "text/plain": [
       "id                                   0\n",
       "name                                 0\n",
       "host_id                              0\n",
       "host_name                            0\n",
       "neighbourhood_group                  0\n",
       "neighbourhood                        0\n",
       "latitude                             0\n",
       "longitude                            0\n",
       "room_type                            0\n",
       "price                                0\n",
       "minimum_nights                       0\n",
       "number_of_reviews                    0\n",
       "last_review                       6982\n",
       "reviews_per_month                 6982\n",
       "calculated_host_listings_count       0\n",
       "availability_365                     0\n",
       "dtype: int64"
      ]
     },
     "execution_count": 16,
     "metadata": {},
     "output_type": "execute_result"
    }
   ],
   "source": [
    "data.isnull().sum()"
   ]
  },
  {
   "cell_type": "code",
   "execution_count": 17,
   "metadata": {},
   "outputs": [
    {
     "data": {
      "text/plain": [
       "(6982, 16)"
      ]
     },
     "execution_count": 17,
     "metadata": {},
     "output_type": "execute_result"
    }
   ],
   "source": [
    "data[data['number_of_reviews'] == 0].shape"
   ]
  },
  {
   "cell_type": "markdown",
   "metadata": {},
   "source": [
    "### OBSERVATION:\n",
    "### It can be observed that wherever number of reviews are 0, in that rows value for last review and reviews per month is NA which can be replace by not applicable and 0 respectively "
   ]
  },
  {
   "cell_type": "code",
   "execution_count": 18,
   "metadata": {},
   "outputs": [],
   "source": [
    "data['last_review'].fillna('Not Applicable', inplace = True)"
   ]
  },
  {
   "cell_type": "code",
   "execution_count": 19,
   "metadata": {},
   "outputs": [],
   "source": [
    "data['reviews_per_month'].fillna(0, inplace = True)"
   ]
  },
  {
   "cell_type": "code",
   "execution_count": 20,
   "metadata": {},
   "outputs": [
    {
     "data": {
      "text/plain": [
       "id                                0\n",
       "name                              0\n",
       "host_id                           0\n",
       "host_name                         0\n",
       "neighbourhood_group               0\n",
       "neighbourhood                     0\n",
       "latitude                          0\n",
       "longitude                         0\n",
       "room_type                         0\n",
       "price                             0\n",
       "minimum_nights                    0\n",
       "number_of_reviews                 0\n",
       "last_review                       0\n",
       "reviews_per_month                 0\n",
       "calculated_host_listings_count    0\n",
       "availability_365                  0\n",
       "dtype: int64"
      ]
     },
     "execution_count": 20,
     "metadata": {},
     "output_type": "execute_result"
    }
   ],
   "source": [
    "data.isnull().sum()"
   ]
  },
  {
   "cell_type": "markdown",
   "metadata": {},
   "source": [
    "### Top 10 place names as per price"
   ]
  },
  {
   "cell_type": "code",
   "execution_count": 22,
   "metadata": {},
   "outputs": [
    {
     "data": {
      "image/png": "[encoded data removed]",
      "text/plain": [
       "<Figure size 432x288 with 1 Axes>"
      ]
     },
     "metadata": {
      "needs_background": "light"
     },
     "output_type": "display_data"
    }
   ],
   "source": [
    "data.groupby('name')['price'].mean().sort_values(ascending = False)[:10].plot(kind = 'bar' )\n",
    "plt.show()"
   ]
  },
  {
   "cell_type": "markdown",
   "metadata": {},
   "source": [
    "### Price as per room type analysis"
   ]
  },
  {
   "cell_type": "code",
   "execution_count": 23,
   "metadata": {},
   "outputs": [
    {
     "data": {
      "text/plain": [
       "array(['Private room', 'Entire home/apt', 'Shared room'], dtype=object)"
      ]
     },
     "execution_count": 23,
     "metadata": {},
     "output_type": "execute_result"
    }
   ],
   "source": [
    "data.room_type.unique()"
   ]
  },
  {
   "cell_type": "code",
   "execution_count": 24,
   "metadata": {},
   "outputs": [
    {
     "data": {
      "text/plain": [
       "Entire home/apt    17829\n",
       "Private room       15594\n",
       "Shared room          803\n",
       "Name: room_type, dtype: int64"
      ]
     },
     "execution_count": 24,
     "metadata": {},
     "output_type": "execute_result"
    }
   ],
   "source": [
    "data.room_type.value_counts()"
   ]
  },
  {
   "cell_type": "code",
   "execution_count": 25,
   "metadata": {},
   "outputs": [
    {
     "data": {
      "image/png": "[encoded data removed]",
      "text/plain": [
       "<Figure size 432x288 with 1 Axes>"
      ]
     },
     "metadata": {
      "needs_background": "light"
     },
     "output_type": "display_data"
    }
   ],
   "source": [
    "data.room_type.value_counts().plot(kind = 'bar')\n",
    "plt.xticks(rotation = 45)\n",
    "plt.show()"
   ]
  },
  {
   "cell_type": "markdown",
   "metadata": {},
   "source": [
    "## Make ID and host ID as string"
   ]
  },
  {
   "cell_type": "code",
   "execution_count": 26,
   "metadata": {},
   "outputs": [],
   "source": [
    "data['id'] = data['id'].apply(lambda x : str(x))\n",
    "data['host_id'] = data['host_id'].apply(lambda x : str(x))"
   ]
  },
  {
   "cell_type": "code",
   "execution_count": 27,
   "metadata": {},
   "outputs": [
    {
     "name": "stdout",
     "output_type": "stream",
     "text": [
      "<class 'pandas.core.frame.DataFrame'>\n",
      "RangeIndex: 34226 entries, 0 to 34225\n",
      "Data columns (total 16 columns):\n",
      " #   Column                          Non-Null Count  Dtype  \n",
      "---  ------                          --------------  -----  \n",
      " 0   id                              34226 non-null  object \n",
      " 1   name                            34226 non-null  object \n",
      " 2   host_id                         34226 non-null  object \n",
      " 3   host_name                       34226 non-null  object \n",
      " 4   neighbourhood_group             34226 non-null  object \n",
      " 5   neighbourhood                   34226 non-null  object \n",
      " 6   latitude                        34226 non-null  float64\n",
      " 7   longitude                       34226 non-null  float64\n",
      " 8   room_type                       34226 non-null  object \n",
      " 9   price                           34226 non-null  int64  \n",
      " 10  minimum_nights                  34226 non-null  int64  \n",
      " 11  number_of_reviews               34226 non-null  int64  \n",
      " 12  last_review                     34226 non-null  object \n",
      " 13  reviews_per_month               34226 non-null  float64\n",
      " 14  calculated_host_listings_count  34226 non-null  int64  \n",
      " 15  availability_365                34226 non-null  int64  \n",
      "dtypes: float64(3), int64(5), object(8)\n",
      "memory usage: 4.2+ MB\n"
     ]
    }
   ],
   "source": [
    "data.info()"
   ]
  },
  {
   "cell_type": "code",
   "execution_count": 30,
   "metadata": {
    "scrolled": true
   },
   "outputs": [
    {
     "name": "stderr",
     "output_type": "stream",
     "text": [
      "C:\\Users\\gmahi\\anaconda3\\lib\\site-packages\\seaborn\\distributions.py:2619: FutureWarning: `distplot` is a deprecated function and will be removed in a future version. Please adapt your code to use either `displot` (a figure-level function with similar flexibility) or `histplot` (an axes-level function for histograms).\n",
      "  warnings.warn(msg, FutureWarning)\n",
      "C:\\Users\\gmahi\\anaconda3\\lib\\site-packages\\seaborn\\distributions.py:2619: FutureWarning: `distplot` is a deprecated function and will be removed in a future version. Please adapt your code to use either `displot` (a figure-level function with similar flexibility) or `histplot` (an axes-level function for histograms).\n",
      "  warnings.warn(msg, FutureWarning)\n",
      "C:\\Users\\gmahi\\anaconda3\\lib\\site-packages\\seaborn\\distributions.py:2619: FutureWarning: `distplot` is a deprecated function and will be removed in a future version. Please adapt your code to use either `displot` (a figure-level function with similar flexibility) or `histplot` (an axes-level function for histograms).\n",
      "  warnings.warn(msg, FutureWarning)\n",
      "C:\\Users\\gmahi\\anaconda3\\lib\\site-packages\\seaborn\\distributions.py:2619: FutureWarning: `distplot` is a deprecated function and will be removed in a future version. Please adapt your code to use either `displot` (a figure-level function with similar flexibility) or `histplot` (an axes-level function for histograms).\n",
      "  warnings.warn(msg, FutureWarning)\n",
      "C:\\Users\\gmahi\\anaconda3\\lib\\site-packages\\seaborn\\distributions.py:2619: FutureWarning: `distplot` is a deprecated function and will be removed in a future version. Please adapt your code to use either `displot` (a figure-level function with similar flexibility) or `histplot` (an axes-level function for histograms).\n",
      "  warnings.warn(msg, FutureWarning)\n",
      "C:\\Users\\gmahi\\anaconda3\\lib\\site-packages\\seaborn\\distributions.py:2619: FutureWarning: `distplot` is a deprecated function and will be removed in a future version. Please adapt your code to use either `displot` (a figure-level function with similar flexibility) or `histplot` (an axes-level function for histograms).\n",
      "  warnings.warn(msg, FutureWarning)\n",
      "C:\\Users\\gmahi\\anaconda3\\lib\\site-packages\\seaborn\\distributions.py:2619: FutureWarning: `distplot` is a deprecated function and will be removed in a future version. Please adapt your code to use either `displot` (a figure-level function with similar flexibility) or `histplot` (an axes-level function for histograms).\n",
      "  warnings.warn(msg, FutureWarning)\n",
      "C:\\Users\\gmahi\\anaconda3\\lib\\site-packages\\seaborn\\distributions.py:2619: FutureWarning: `distplot` is a deprecated function and will be removed in a future version. Please adapt your code to use either `displot` (a figure-level function with similar flexibility) or `histplot` (an axes-level function for histograms).\n",
      "  warnings.warn(msg, FutureWarning)\n"
     ]
    },
    {
     "data": {
      "image/png": "[encoded data removed]",
      "text/plain": [
       "<Figure size 1440x288 with 1 Axes>"
      ]
     },
     "metadata": {},
     "output_type": "display_data"
    },
    {
     "data": {
      "image/png": "[encoded data removed]",
      "text/plain": [
       "<Figure size 1440x288 with 1 Axes>"
      ]
     },
     "metadata": {},
     "output_type": "display_data"
    },
    {
     "data": {
      "image/png": "[encoded data removed]",
      "text/plain": [
       "<Figure size 1440x288 with 1 Axes>"
      ]
     },
     "metadata": {},
     "output_type": "display_data"
    },
    {
     "data": {
      "image/png": "[encoded data removed]",
      "text/plain": [
       "<Figure size 1440x288 with 1 Axes>"
      ]
     },
     "metadata": {},
     "output_type": "display_data"
    },
    {
     "data": {
      "image/png": "[encoded data removed]",
      "text/plain": [
       "<Figure size 1440x288 with 1 Axes>"
      ]
     },
     "metadata": {},
     "output_type": "display_data"
    },
    {
     "data": {
      "image/png": "[encoded data removed]",
      "text/plain": [
       "<Figure size 1440x288 with 1 Axes>"
      ]
     },
     "metadata": {},
     "output_type": "display_data"
    },
    {
     "data": {
      "image/png": "[encoded data removed]",
      "text/plain": [
       "<Figure size 1440x288 with 1 Axes>"
      ]
     },
     "metadata": {},
     "output_type": "display_data"
    },
    {
     "data": {
      "image/png": "[encoded data removed]",
      "text/plain": [
       "<Figure size 1440x288 with 1 Axes>"
      ]
     },
     "metadata": {},
     "output_type": "display_data"
    }
   ],
   "source": [
    "plt.style.use('ggplot')\n",
    "numerical = ['latitude', 'longitude', 'minimum_nights', 'price','number_of_reviews', 'reviews_per_month', 'calculated_host_listings_count', 'availability_365']\n",
    "\n",
    "for column in numerical:\n",
    "    plt.figure(figsize=(20,4))\n",
    "    plt.subplot(121)\n",
    "    sns.distplot(data[column])\n",
    "    plt.title('Plotting distribution of '+ column)\n",
    "    plt.xlabel(column)\n",
    "    plt.ylabel('y-label')"
   ]
  },
  {
   "cell_type": "markdown",
   "metadata": {},
   "source": [
    "### Observation: It can be seen that the the columns 'minimum_nights', 'price','number_of_reviews', 'reviews_per_month', 'calculated_host_listings_count', 'availability_365' are rightly skewed"
   ]
  },
  {
   "cell_type": "markdown",
   "metadata": {},
   "source": [
    "### List of skewed data"
   ]
  },
  {
   "cell_type": "code",
   "execution_count": 31,
   "metadata": {},
   "outputs": [],
   "source": [
    "skewed_var = ['minimum_nights', 'price','number_of_reviews', 'reviews_per_month', 'calculated_host_listings_count', 'availability_365']"
   ]
  },
  {
   "cell_type": "code",
   "execution_count": 32,
   "metadata": {
    "scrolled": true
   },
   "outputs": [
    {
     "data": {
      "image/png": "[encoded data removed]",
      "text/plain": [
       "<Figure size 1440x288 with 1 Axes>"
      ]
     },
     "metadata": {},
     "output_type": "display_data"
    },
    {
     "data": {
      "image/png": "[encoded data removed]",
      "text/plain": [
       "<Figure size 1440x288 with 1 Axes>"
      ]
     },
     "metadata": {},
     "output_type": "display_data"
    },
    {
     "data": {
      "image/png": "[encoded data removed]",
      "text/plain": [
       "<Figure size 1440x288 with 1 Axes>"
      ]
     },
     "metadata": {},
     "output_type": "display_data"
    },
    {
     "data": {
      "image/png": "[encoded data removed]",
      "text/plain": [
       "<Figure size 1440x288 with 1 Axes>"
      ]
     },
     "metadata": {},
     "output_type": "display_data"
    },
    {
     "data": {
      "image/png": "[encoded data removed]",
      "text/plain": [
       "<Figure size 1440x288 with 1 Axes>"
      ]
     },
     "metadata": {},
     "output_type": "display_data"
    },
    {
     "data": {
      "image/png": "[encoded data removed]",
      "text/plain": [
       "<Figure size 1440x288 with 1 Axes>"
      ]
     },
     "metadata": {},
     "output_type": "display_data"
    }
   ],
   "source": [
    "for i in skewed_var:\n",
    "    plt.figure(figsize=(20,4))\n",
    "    sns.boxplot(data = data, x = data[i])"
   ]
  },
  {
   "cell_type": "markdown",
   "metadata": {},
   "source": [
    "### Treating the outlier with quantile method"
   ]
  },
  {
   "cell_type": "code",
   "execution_count": 33,
   "metadata": {},
   "outputs": [
    {
     "name": "stdout",
     "output_type": "stream",
     "text": [
      "1.0\n",
      "5.0\n",
      "4.0\n",
      "-5.0 11.0\n"
     ]
    }
   ],
   "source": [
    "# For minimum nights\n",
    "Q1 = data['minimum_nights'].quantile(0.25)\n",
    "Q3 = data['minimum_nights'].quantile(0.75)\n",
    "IQR = Q3 - Q1\n",
    "print (Q1)\n",
    "print(Q3)\n",
    "print(IQR)\n",
    "\n",
    "Lower_side = Q1 - 1.5*IQR\n",
    "Upper_side = Q3 + 1.5*IQR\n",
    "\n",
    "print(Lower_side, Upper_side)\n",
    "data = data[data['minimum_nights'] < Upper_side]"
   ]
  },
  {
   "cell_type": "code",
   "execution_count": 34,
   "metadata": {},
   "outputs": [
    {
     "name": "stdout",
     "output_type": "stream",
     "text": [
      "69.0\n",
      "175.0\n",
      "106.0\n",
      "-90.0 334.0\n"
     ]
    }
   ],
   "source": [
    "# For price\n",
    "Q1 = data['price'].quantile(0.25)\n",
    "Q3 = data['price'].quantile(0.75)\n",
    "IQR = Q3 - Q1\n",
    "print (Q1)\n",
    "print(Q3)\n",
    "print(IQR)\n",
    "\n",
    "Lower_side = Q1 - 1.5*IQR\n",
    "Upper_side = Q3 + 1.5*IQR\n",
    "\n",
    "print(Lower_side, Upper_side)\n",
    "data = data[data['price'] < Upper_side]"
   ]
  },
  {
   "cell_type": "code",
   "execution_count": 35,
   "metadata": {},
   "outputs": [
    {
     "name": "stdout",
     "output_type": "stream",
     "text": [
      "1.0\n",
      "29.0\n",
      "28.0\n",
      "-41.0 71.0\n"
     ]
    }
   ],
   "source": [
    "# For number of reviews\n",
    "Q1 = data['number_of_reviews'].quantile(0.25)\n",
    "Q3 = data['number_of_reviews'].quantile(0.75)\n",
    "IQR = Q3 - Q1\n",
    "print (Q1)\n",
    "print(Q3)\n",
    "print(IQR)\n",
    "\n",
    "Lower_side = Q1 - 1.5*IQR\n",
    "Upper_side = Q3 + 1.5*IQR\n",
    "\n",
    "print(Lower_side, Upper_side)\n",
    "data = data[data['number_of_reviews'] < Upper_side]"
   ]
  },
  {
   "cell_type": "code",
   "execution_count": 36,
   "metadata": {},
   "outputs": [
    {
     "name": "stdout",
     "output_type": "stream",
     "text": [
      "0.05\n",
      "1.28\n",
      "1.23\n",
      "-1.795 3.125\n"
     ]
    }
   ],
   "source": [
    "# For reviews per month\n",
    "Q1 = data['reviews_per_month'].quantile(0.25)\n",
    "Q3 = data['reviews_per_month'].quantile(0.75)\n",
    "IQR = Q3 - Q1\n",
    "print (Q1)\n",
    "print(Q3)\n",
    "print(IQR)\n",
    "\n",
    "Lower_side = Q1 - 1.5*IQR\n",
    "Upper_side = Q3 + 1.5*IQR\n",
    "\n",
    "print(Lower_side, Upper_side)\n",
    "data = data[data['reviews_per_month'] < Upper_side]"
   ]
  },
  {
   "cell_type": "code",
   "execution_count": 37,
   "metadata": {},
   "outputs": [
    {
     "name": "stdout",
     "output_type": "stream",
     "text": [
      "1.0\n",
      "2.0\n",
      "1.0\n",
      "-0.5 3.5\n"
     ]
    }
   ],
   "source": [
    "# For calculated host listing count\n",
    "Q1 = data['calculated_host_listings_count'].quantile(0.25)\n",
    "Q3 = data['calculated_host_listings_count'].quantile(0.75)\n",
    "IQR = Q3 - Q1\n",
    "print (Q1)\n",
    "print(Q3)\n",
    "print(IQR)\n",
    "\n",
    "Lower_side = Q1 - 1.5*IQR\n",
    "Upper_side = Q3 + 1.5*IQR\n",
    "\n",
    "print(Lower_side, Upper_side)\n",
    "data = data[data['calculated_host_listings_count'] < Upper_side]"
   ]
  },
  {
   "cell_type": "code",
   "execution_count": 38,
   "metadata": {},
   "outputs": [
    {
     "name": "stdout",
     "output_type": "stream",
     "text": [
      "0.0\n",
      "96.75\n",
      "96.75\n",
      "-145.125 241.875\n"
     ]
    }
   ],
   "source": [
    "# For availability 365\n",
    "Q1 = data['availability_365'].quantile(0.25)\n",
    "Q3 = data['availability_365'].quantile(0.75)\n",
    "IQR = Q3 - Q1\n",
    "print (Q1)\n",
    "print(Q3)\n",
    "print(IQR)\n",
    "\n",
    "Lower_side = Q1 - 1.5*IQR\n",
    "Upper_side = Q3 + 1.5*IQR\n",
    "\n",
    "print(Lower_side, Upper_side)\n",
    "data = data[data['availability_365'] < Upper_side]"
   ]
  },
  {
   "cell_type": "markdown",
   "metadata": {},
   "source": [
    "## Converting useful catagorical columns to numerical"
   ]
  },
  {
   "cell_type": "code",
   "execution_count": 39,
   "metadata": {},
   "outputs": [],
   "source": [
    "working_data = data.copy()"
   ]
  },
  {
   "cell_type": "code",
   "execution_count": 40,
   "metadata": {},
   "outputs": [],
   "source": [
    "working_data['room_type'] = working_data['room_type'].astype('category').cat.codes\n",
    "working_data['neighbourhood_group'] = working_data['neighbourhood_group'].astype('category').cat.codes\n",
    "working_data['neighbourhood'] = working_data['neighbourhood'].astype('category').cat.codes"
   ]
  },
  {
   "cell_type": "markdown",
   "metadata": {},
   "source": [
    "### Drop id, name, host_id, host_name "
   ]
  },
  {
   "cell_type": "code",
   "execution_count": 41,
   "metadata": {},
   "outputs": [],
   "source": [
    "# working_data.drop(['id', 'name', 'host_id', 'host_name','last_review','minimum_nights','number_of_reviews', 'reviews_per_month','calculated_host_listings_count','availability_365', 'latitude', 'longitude'], axis = 1, inplace = True)\n",
    "# working_data.drop(['id', 'name', 'host_id', 'host_name','last_review','number_of_reviews', 'reviews_per_month','calculated_host_listings_count','availability_365', 'latitude', 'longitude'], axis = 1, inplace = True)\n",
    "working_data.drop(['id', 'host_id', 'host_name'], axis = 1, inplace = True)"
   ]
  },
  {
   "cell_type": "markdown",
   "metadata": {},
   "source": [
    "## Find correlations between variables"
   ]
  },
  {
   "cell_type": "code",
   "execution_count": 42,
   "metadata": {},
   "outputs": [
    {
     "data": {
      "image/png": "[encoded data removed]",
      "text/plain": [
       "<Figure size 864x576 with 2 Axes>"
      ]
     },
     "metadata": {},
     "output_type": "display_data"
    }
   ],
   "source": [
    "corr = working_data.corr()\n",
    "plt.figure(figsize = (12,8))\n",
    "sns.heatmap(corr, annot = True)\n",
    "plt.show()"
   ]
  },
  {
   "cell_type": "code",
   "execution_count": 43,
   "metadata": {},
   "outputs": [
    {
     "data": {
      "text/html": [
       "<div>\n",
       "<style scoped>\n",
       "    .dataframe tbody tr th:only-of-type {\n",
       "        vertical-align: middle;\n",
       "    }\n",
       "\n",
       "    .dataframe tbody tr th {\n",
       "        vertical-align: top;\n",
       "    }\n",
       "\n",
       "    .dataframe thead th {\n",
       "        text-align: right;\n",
       "    }\n",
       "</style>\n",
       "<table border=\"1\" class=\"dataframe\">\n",
       "  <thead>\n",
       "    <tr style=\"text-align: right;\">\n",
       "      <th></th>\n",
       "      <th>neighbourhood_group</th>\n",
       "      <th>neighbourhood</th>\n",
       "      <th>latitude</th>\n",
       "      <th>longitude</th>\n",
       "      <th>room_type</th>\n",
       "      <th>price</th>\n",
       "      <th>minimum_nights</th>\n",
       "      <th>number_of_reviews</th>\n",
       "      <th>reviews_per_month</th>\n",
       "      <th>calculated_host_listings_count</th>\n",
       "      <th>availability_365</th>\n",
       "    </tr>\n",
       "  </thead>\n",
       "  <tbody>\n",
       "    <tr>\n",
       "      <th>0</th>\n",
       "      <td>2</td>\n",
       "      <td>137</td>\n",
       "      <td>40.72217</td>\n",
       "      <td>-73.99481</td>\n",
       "      <td>1</td>\n",
       "      <td>120</td>\n",
       "      <td>7</td>\n",
       "      <td>3</td>\n",
       "      <td>0.06</td>\n",
       "      <td>3</td>\n",
       "      <td>0</td>\n",
       "    </tr>\n",
       "    <tr>\n",
       "      <th>7</th>\n",
       "      <td>1</td>\n",
       "      <td>76</td>\n",
       "      <td>40.69064</td>\n",
       "      <td>-73.97898</td>\n",
       "      <td>0</td>\n",
       "      <td>200</td>\n",
       "      <td>5</td>\n",
       "      <td>0</td>\n",
       "      <td>0.00</td>\n",
       "      <td>1</td>\n",
       "      <td>0</td>\n",
       "    </tr>\n",
       "    <tr>\n",
       "      <th>12</th>\n",
       "      <td>2</td>\n",
       "      <td>89</td>\n",
       "      <td>40.81619</td>\n",
       "      <td>-73.93798</td>\n",
       "      <td>0</td>\n",
       "      <td>77</td>\n",
       "      <td>1</td>\n",
       "      <td>2</td>\n",
       "      <td>0.05</td>\n",
       "      <td>1</td>\n",
       "      <td>0</td>\n",
       "    </tr>\n",
       "    <tr>\n",
       "      <th>14</th>\n",
       "      <td>2</td>\n",
       "      <td>90</td>\n",
       "      <td>40.76159</td>\n",
       "      <td>-73.99824</td>\n",
       "      <td>1</td>\n",
       "      <td>69</td>\n",
       "      <td>2</td>\n",
       "      <td>22</td>\n",
       "      <td>0.64</td>\n",
       "      <td>2</td>\n",
       "      <td>7</td>\n",
       "    </tr>\n",
       "    <tr>\n",
       "      <th>17</th>\n",
       "      <td>1</td>\n",
       "      <td>202</td>\n",
       "      <td>40.71417</td>\n",
       "      <td>-73.94123</td>\n",
       "      <td>0</td>\n",
       "      <td>94</td>\n",
       "      <td>3</td>\n",
       "      <td>4</td>\n",
       "      <td>1.32</td>\n",
       "      <td>1</td>\n",
       "      <td>31</td>\n",
       "    </tr>\n",
       "    <tr>\n",
       "      <th>...</th>\n",
       "      <td>...</td>\n",
       "      <td>...</td>\n",
       "      <td>...</td>\n",
       "      <td>...</td>\n",
       "      <td>...</td>\n",
       "      <td>...</td>\n",
       "      <td>...</td>\n",
       "      <td>...</td>\n",
       "      <td>...</td>\n",
       "      <td>...</td>\n",
       "      <td>...</td>\n",
       "    </tr>\n",
       "    <tr>\n",
       "      <th>34218</th>\n",
       "      <td>2</td>\n",
       "      <td>190</td>\n",
       "      <td>40.79613</td>\n",
       "      <td>-73.96658</td>\n",
       "      <td>1</td>\n",
       "      <td>60</td>\n",
       "      <td>2</td>\n",
       "      <td>23</td>\n",
       "      <td>0.62</td>\n",
       "      <td>1</td>\n",
       "      <td>0</td>\n",
       "    </tr>\n",
       "    <tr>\n",
       "      <th>34221</th>\n",
       "      <td>3</td>\n",
       "      <td>157</td>\n",
       "      <td>40.70602</td>\n",
       "      <td>-73.90485</td>\n",
       "      <td>0</td>\n",
       "      <td>80</td>\n",
       "      <td>5</td>\n",
       "      <td>2</td>\n",
       "      <td>0.21</td>\n",
       "      <td>1</td>\n",
       "      <td>0</td>\n",
       "    </tr>\n",
       "    <tr>\n",
       "      <th>34223</th>\n",
       "      <td>2</td>\n",
       "      <td>97</td>\n",
       "      <td>40.86912</td>\n",
       "      <td>-73.92183</td>\n",
       "      <td>0</td>\n",
       "      <td>195</td>\n",
       "      <td>2</td>\n",
       "      <td>6</td>\n",
       "      <td>0.53</td>\n",
       "      <td>1</td>\n",
       "      <td>0</td>\n",
       "    </tr>\n",
       "    <tr>\n",
       "      <th>34224</th>\n",
       "      <td>1</td>\n",
       "      <td>26</td>\n",
       "      <td>40.69709</td>\n",
       "      <td>-73.91435</td>\n",
       "      <td>1</td>\n",
       "      <td>80</td>\n",
       "      <td>3</td>\n",
       "      <td>0</td>\n",
       "      <td>0.00</td>\n",
       "      <td>1</td>\n",
       "      <td>0</td>\n",
       "    </tr>\n",
       "    <tr>\n",
       "      <th>34225</th>\n",
       "      <td>1</td>\n",
       "      <td>11</td>\n",
       "      <td>40.69076</td>\n",
       "      <td>-73.92886</td>\n",
       "      <td>0</td>\n",
       "      <td>69</td>\n",
       "      <td>4</td>\n",
       "      <td>5</td>\n",
       "      <td>0.13</td>\n",
       "      <td>1</td>\n",
       "      <td>0</td>\n",
       "    </tr>\n",
       "  </tbody>\n",
       "</table>\n",
       "<p>17850 rows × 11 columns</p>\n",
       "</div>"
      ],
      "text/plain": [
       "       neighbourhood_group  neighbourhood  latitude  longitude  room_type  \\\n",
       "0                        2            137  40.72217  -73.99481          1   \n",
       "7                        1             76  40.69064  -73.97898          0   \n",
       "12                       2             89  40.81619  -73.93798          0   \n",
       "14                       2             90  40.76159  -73.99824          1   \n",
       "17                       1            202  40.71417  -73.94123          0   \n",
       "...                    ...            ...       ...        ...        ...   \n",
       "34218                    2            190  40.79613  -73.96658          1   \n",
       "34221                    3            157  40.70602  -73.90485          0   \n",
       "34223                    2             97  40.86912  -73.92183          0   \n",
       "34224                    1             26  40.69709  -73.91435          1   \n",
       "34225                    1             11  40.69076  -73.92886          0   \n",
       "\n",
       "       price  minimum_nights  number_of_reviews  reviews_per_month  \\\n",
       "0        120               7                  3               0.06   \n",
       "7        200               5                  0               0.00   \n",
       "12        77               1                  2               0.05   \n",
       "14        69               2                 22               0.64   \n",
       "17        94               3                  4               1.32   \n",
       "...      ...             ...                ...                ...   \n",
       "34218     60               2                 23               0.62   \n",
       "34221     80               5                  2               0.21   \n",
       "34223    195               2                  6               0.53   \n",
       "34224     80               3                  0               0.00   \n",
       "34225     69               4                  5               0.13   \n",
       "\n",
       "       calculated_host_listings_count  availability_365  \n",
       "0                                   3                 0  \n",
       "7                                   1                 0  \n",
       "12                                  1                 0  \n",
       "14                                  2                 7  \n",
       "17                                  1                31  \n",
       "...                               ...               ...  \n",
       "34218                               1                 0  \n",
       "34221                               1                 0  \n",
       "34223                               1                 0  \n",
       "34224                               1                 0  \n",
       "34225                               1                 0  \n",
       "\n",
       "[17850 rows x 11 columns]"
      ]
     },
     "execution_count": 43,
     "metadata": {},
     "output_type": "execute_result"
    }
   ],
   "source": [
    "num_var = working_data.select_dtypes(include = 'number')\n",
    "num_var"
   ]
  },
  {
   "cell_type": "markdown",
   "metadata": {},
   "source": [
    "# Machine Learning part"
   ]
  },
  {
   "cell_type": "code",
   "execution_count": 44,
   "metadata": {},
   "outputs": [],
   "source": [
    "from sklearn import metrics\n",
    "# for training and splitting the data\n",
    "from sklearn.model_selection import train_test_split\n",
    "from sklearn.model_selection import cross_val_score\n",
    "\n",
    "# Different models\n",
    "from sklearn.linear_model import LinearRegression\n",
    "from sklearn.linear_model import Lasso\n",
    "from sklearn.ensemble import RandomForestClassifier\n",
    "\n",
    "# For checking\n",
    "from sklearn.metrics import mean_squared_error ,r2_score, mean_absolute_error"
   ]
  },
  {
   "cell_type": "markdown",
   "metadata": {},
   "source": [
    "## Training of Model"
   ]
  },
  {
   "cell_type": "code",
   "execution_count": 45,
   "metadata": {},
   "outputs": [
    {
     "name": "stderr",
     "output_type": "stream",
     "text": [
      "C:\\Users\\gmahi\\AppData\\Local\\Temp/ipykernel_2408/900740288.py:1: FutureWarning: In a future version of pandas all arguments of DataFrame.drop except for the argument 'labels' will be keyword-only\n",
      "  X = num_var.drop(['price'],1)\n"
     ]
    }
   ],
   "source": [
    "X = num_var.drop(['price'],1)\n",
    "y = num_var[\"price\"]"
   ]
  },
  {
   "cell_type": "code",
   "execution_count": 46,
   "metadata": {},
   "outputs": [],
   "source": [
    "X_train, X_test, y_train, y_test = train_test_split(X,y,test_size =0.3, random_state = 42)"
   ]
  },
  {
   "cell_type": "markdown",
   "metadata": {},
   "source": [
    "## Create a linear regression model "
   ]
  },
  {
   "cell_type": "code",
   "execution_count": 47,
   "metadata": {},
   "outputs": [],
   "source": [
    "lr  = LinearRegression()\n",
    "lr.fit(X_train,y_train)\n",
    "y_pred = lr.predict(X_test)"
   ]
  },
  {
   "cell_type": "markdown",
   "metadata": {},
   "source": [
    "## Evaluate the above model using error metrics for linear regression"
   ]
  },
  {
   "cell_type": "code",
   "execution_count": 48,
   "metadata": {},
   "outputs": [
    {
     "name": "stdout",
     "output_type": "stream",
     "text": [
      "Root Mean Squared Error:  49.72915064876823\n",
      "R2_score:  0.4311220942187761\n",
      "Mean Absolute Error:   37.152917063336226\n"
     ]
    }
   ],
   "source": [
    "rmse_lr = np.sqrt(mean_squared_error(y_test,y_pred))\n",
    "print(\"Root Mean Squared Error: \", rmse_lr)\n",
    "print(\"R2_score: \",r2_score(y_test,y_pred))\n",
    "print(\"Mean Absolute Error:  \", mean_absolute_error(y_test,y_pred))"
   ]
  },
  {
   "cell_type": "code",
   "execution_count": 49,
   "metadata": {},
   "outputs": [
    {
     "data": {
      "text/plain": [
       "array([102.81012437, 166.68096163, 171.87896697,  96.25269652,\n",
       "       198.19472233,  85.55884316, 149.79870357, 107.00160624,\n",
       "       106.90726204, 155.69845084])"
      ]
     },
     "execution_count": 49,
     "metadata": {},
     "output_type": "execute_result"
    }
   ],
   "source": [
    "y_pred[0:10]"
   ]
  },
  {
   "cell_type": "code",
   "execution_count": 50,
   "metadata": {},
   "outputs": [
    {
     "data": {
      "text/plain": [
       "34152     80\n",
       "17729    165\n",
       "2481     180\n",
       "5739     135\n",
       "4055     148\n",
       "10035    100\n",
       "31890     90\n",
       "12795     55\n",
       "967      175\n",
       "26105    134\n",
       "Name: price, dtype: int64"
      ]
     },
     "execution_count": 50,
     "metadata": {},
     "output_type": "execute_result"
    }
   ],
   "source": [
    "y_test[0:10]"
   ]
  },
  {
   "cell_type": "markdown",
   "metadata": {},
   "source": [
    "## Create a lasso regression model "
   ]
  },
  {
   "cell_type": "code",
   "execution_count": 51,
   "metadata": {},
   "outputs": [],
   "source": [
    "las = Lasso()\n",
    "las.fit(X_train,y_train)\n",
    "y_pred_las = las.predict(X_test)"
   ]
  },
  {
   "cell_type": "markdown",
   "metadata": {},
   "source": [
    "## Evaluate the above model using error metrics for lasso regression"
   ]
  },
  {
   "cell_type": "code",
   "execution_count": 52,
   "metadata": {},
   "outputs": [
    {
     "name": "stdout",
     "output_type": "stream",
     "text": [
      "Root Mean Squared Error:  52.06576439901831\n",
      "R2_score:  0.3764066416579932\n",
      "Mean Absolute Error:   39.45238033445726\n"
     ]
    }
   ],
   "source": [
    "rmse_las = np.sqrt(mean_squared_error(y_test,y_pred_las))\n",
    "print(\"Root Mean Squared Error: \", rmse_las)\n",
    "print(\"R2_score: \",r2_score(y_test,y_pred_las))\n",
    "print(\"Mean Absolute Error:  \", mean_absolute_error(y_test,y_pred_las))"
   ]
  },
  {
   "cell_type": "markdown",
   "metadata": {},
   "source": [
    "## Create a random forest classifier model "
   ]
  },
  {
   "cell_type": "code",
   "execution_count": 53,
   "metadata": {},
   "outputs": [],
   "source": [
    "rf = RandomForestClassifier()\n",
    "rf.fit(X_train,y_train)\n",
    "y_pred_rf = rf.predict(X_test)"
   ]
  },
  {
   "cell_type": "markdown",
   "metadata": {},
   "source": [
    "## Evaluate the above model using error metrics for random forest classifier"
   ]
  },
  {
   "cell_type": "code",
   "execution_count": 54,
   "metadata": {},
   "outputs": [
    {
     "name": "stdout",
     "output_type": "stream",
     "text": [
      "Root Mean Squared Error:  60.00935501299468\n",
      "R2_score:  0.17160989767041146\n",
      "Mean Absolute Error:   42.639028944911296\n"
     ]
    }
   ],
   "source": [
    "rmse_rf = np.sqrt(mean_squared_error(y_test,y_pred_rf))\n",
    "print(\"Root Mean Squared Error: \", rmse_rf)\n",
    "print(\"R2_score: \",r2_score(y_test,y_pred_rf))\n",
    "print(\"Mean Absolute Error:  \", mean_absolute_error(y_test,y_pred_rf))"
   ]
  },
  {
   "cell_type": "markdown",
   "metadata": {},
   "source": [
    "### Observation : In our case linear regression model has lowest score"
   ]
  },
  {
   "cell_type": "markdown",
   "metadata": {},
   "source": [
    "## Cross Validation"
   ]
  },
  {
   "cell_type": "code",
   "execution_count": 55,
   "metadata": {},
   "outputs": [
    {
     "name": "stdout",
     "output_type": "stream",
     "text": [
      "Cross Val score for linear Regression:  0.4292109119134923\n"
     ]
    }
   ],
   "source": [
    "print('Cross Val score for linear Regression: ',cross_val_score(lr, X, y, cv = 10).mean())"
   ]
  },
  {
   "cell_type": "markdown",
   "metadata": {},
   "source": [
    "# Predict the price for given data"
   ]
  },
  {
   "cell_type": "markdown",
   "metadata": {},
   "source": [
    "## Converting test file as per required input format"
   ]
  },
  {
   "cell_type": "code",
   "execution_count": 57,
   "metadata": {},
   "outputs": [
    {
     "data": {
      "text/html": [
       "<div>\n",
       "<style scoped>\n",
       "    .dataframe tbody tr th:only-of-type {\n",
       "        vertical-align: middle;\n",
       "    }\n",
       "\n",
       "    .dataframe tbody tr th {\n",
       "        vertical-align: top;\n",
       "    }\n",
       "\n",
       "    .dataframe thead th {\n",
       "        text-align: right;\n",
       "    }\n",
       "</style>\n",
       "<table border=\"1\" class=\"dataframe\">\n",
       "  <thead>\n",
       "    <tr style=\"text-align: right;\">\n",
       "      <th></th>\n",
       "      <th>id</th>\n",
       "      <th>name</th>\n",
       "      <th>host_id</th>\n",
       "      <th>host_name</th>\n",
       "      <th>neighbourhood_group</th>\n",
       "      <th>neighbourhood</th>\n",
       "      <th>latitude</th>\n",
       "      <th>longitude</th>\n",
       "      <th>room_type</th>\n",
       "      <th>minimum_nights</th>\n",
       "      <th>number_of_reviews</th>\n",
       "      <th>last_review</th>\n",
       "      <th>reviews_per_month</th>\n",
       "      <th>calculated_host_listings_count</th>\n",
       "      <th>availability_365</th>\n",
       "    </tr>\n",
       "  </thead>\n",
       "  <tbody>\n",
       "    <tr>\n",
       "      <th>0</th>\n",
       "      <td>1525602</td>\n",
       "      <td>Perfect Temporary Brooklyn Home</td>\n",
       "      <td>1200603</td>\n",
       "      <td>Andrea</td>\n",
       "      <td>Brooklyn</td>\n",
       "      <td>Crown Heights</td>\n",
       "      <td>40.66751</td>\n",
       "      <td>-73.95867</td>\n",
       "      <td>Entire home/apt</td>\n",
       "      <td>2</td>\n",
       "      <td>121</td>\n",
       "      <td>2019-05-31</td>\n",
       "      <td>1.70</td>\n",
       "      <td>1</td>\n",
       "      <td>39</td>\n",
       "    </tr>\n",
       "    <tr>\n",
       "      <th>1</th>\n",
       "      <td>30430185</td>\n",
       "      <td>BIG APPLE - COMFY KING ROOM</td>\n",
       "      <td>224414117</td>\n",
       "      <td>Gabriel</td>\n",
       "      <td>Manhattan</td>\n",
       "      <td>Hell's Kitchen</td>\n",
       "      <td>40.75655</td>\n",
       "      <td>-73.99690</td>\n",
       "      <td>Private room</td>\n",
       "      <td>1</td>\n",
       "      <td>18</td>\n",
       "      <td>2019-05-05</td>\n",
       "      <td>2.49</td>\n",
       "      <td>30</td>\n",
       "      <td>364</td>\n",
       "    </tr>\n",
       "    <tr>\n",
       "      <th>2</th>\n",
       "      <td>21354525</td>\n",
       "      <td>Cozy Brooklyn Heights Getaway w/ Manhattan Access</td>\n",
       "      <td>11743513</td>\n",
       "      <td>Henry</td>\n",
       "      <td>Brooklyn</td>\n",
       "      <td>Brooklyn Heights</td>\n",
       "      <td>40.69252</td>\n",
       "      <td>-73.99121</td>\n",
       "      <td>Private room</td>\n",
       "      <td>1</td>\n",
       "      <td>87</td>\n",
       "      <td>2019-06-16</td>\n",
       "      <td>4.29</td>\n",
       "      <td>1</td>\n",
       "      <td>108</td>\n",
       "    </tr>\n",
       "    <tr>\n",
       "      <th>3</th>\n",
       "      <td>35995074</td>\n",
       "      <td>Amazing*Quiet*Sunny*Bedroom*PrivateLivingRm*Ch...</td>\n",
       "      <td>4128829</td>\n",
       "      <td>Sara</td>\n",
       "      <td>Queens</td>\n",
       "      <td>Ditmars Steinway</td>\n",
       "      <td>40.77292</td>\n",
       "      <td>-73.90101</td>\n",
       "      <td>Private room</td>\n",
       "      <td>9</td>\n",
       "      <td>0</td>\n",
       "      <td>NaN</td>\n",
       "      <td>NaN</td>\n",
       "      <td>2</td>\n",
       "      <td>365</td>\n",
       "    </tr>\n",
       "    <tr>\n",
       "      <th>4</th>\n",
       "      <td>34392081</td>\n",
       "      <td>Hello! This is a very cozy space in Williamsburg.</td>\n",
       "      <td>259630588</td>\n",
       "      <td>Alina</td>\n",
       "      <td>Brooklyn</td>\n",
       "      <td>Williamsburg</td>\n",
       "      <td>40.71863</td>\n",
       "      <td>-73.94980</td>\n",
       "      <td>Private room</td>\n",
       "      <td>1</td>\n",
       "      <td>28</td>\n",
       "      <td>2019-06-26</td>\n",
       "      <td>14.00</td>\n",
       "      <td>2</td>\n",
       "      <td>20</td>\n",
       "    </tr>\n",
       "    <tr>\n",
       "      <th>...</th>\n",
       "      <td>...</td>\n",
       "      <td>...</td>\n",
       "      <td>...</td>\n",
       "      <td>...</td>\n",
       "      <td>...</td>\n",
       "      <td>...</td>\n",
       "      <td>...</td>\n",
       "      <td>...</td>\n",
       "      <td>...</td>\n",
       "      <td>...</td>\n",
       "      <td>...</td>\n",
       "      <td>...</td>\n",
       "      <td>...</td>\n",
       "      <td>...</td>\n",
       "      <td>...</td>\n",
       "    </tr>\n",
       "    <tr>\n",
       "      <th>14664</th>\n",
       "      <td>27730191</td>\n",
       "      <td>Stylish, Artsy &amp; Comfortable Stay Near the Ocean.</td>\n",
       "      <td>32215382</td>\n",
       "      <td>Polina</td>\n",
       "      <td>Brooklyn</td>\n",
       "      <td>Sheepshead Bay</td>\n",
       "      <td>40.59446</td>\n",
       "      <td>-73.94289</td>\n",
       "      <td>Entire home/apt</td>\n",
       "      <td>2</td>\n",
       "      <td>1</td>\n",
       "      <td>2019-05-20</td>\n",
       "      <td>0.59</td>\n",
       "      <td>1</td>\n",
       "      <td>36</td>\n",
       "    </tr>\n",
       "    <tr>\n",
       "      <th>14665</th>\n",
       "      <td>29676417</td>\n",
       "      <td>New York Moments (Ladies Only)</td>\n",
       "      <td>223248121</td>\n",
       "      <td>Julia</td>\n",
       "      <td>Manhattan</td>\n",
       "      <td>Kips Bay</td>\n",
       "      <td>40.74319</td>\n",
       "      <td>-73.98074</td>\n",
       "      <td>Shared room</td>\n",
       "      <td>2</td>\n",
       "      <td>1</td>\n",
       "      <td>2019-01-01</td>\n",
       "      <td>0.16</td>\n",
       "      <td>1</td>\n",
       "      <td>365</td>\n",
       "    </tr>\n",
       "    <tr>\n",
       "      <th>14666</th>\n",
       "      <td>1813829</td>\n",
       "      <td>Enjoy Harlem Renassiance Sunny Room</td>\n",
       "      <td>9501531</td>\n",
       "      <td>Andre</td>\n",
       "      <td>Manhattan</td>\n",
       "      <td>Harlem</td>\n",
       "      <td>40.82519</td>\n",
       "      <td>-73.94530</td>\n",
       "      <td>Private room</td>\n",
       "      <td>1</td>\n",
       "      <td>93</td>\n",
       "      <td>2019-07-02</td>\n",
       "      <td>1.34</td>\n",
       "      <td>3</td>\n",
       "      <td>358</td>\n",
       "    </tr>\n",
       "    <tr>\n",
       "      <th>14667</th>\n",
       "      <td>25017403</td>\n",
       "      <td>Glamping Van</td>\n",
       "      <td>10407935</td>\n",
       "      <td>Meng</td>\n",
       "      <td>Manhattan</td>\n",
       "      <td>Nolita</td>\n",
       "      <td>40.72238</td>\n",
       "      <td>-73.99466</td>\n",
       "      <td>Entire home/apt</td>\n",
       "      <td>1</td>\n",
       "      <td>15</td>\n",
       "      <td>2019-05-27</td>\n",
       "      <td>1.12</td>\n",
       "      <td>8</td>\n",
       "      <td>34</td>\n",
       "    </tr>\n",
       "    <tr>\n",
       "      <th>14668</th>\n",
       "      <td>19057073</td>\n",
       "      <td>Bright central designer's apt - steps to train!</td>\n",
       "      <td>538008</td>\n",
       "      <td>Deren</td>\n",
       "      <td>Brooklyn</td>\n",
       "      <td>Bedford-Stuyvesant</td>\n",
       "      <td>40.68932</td>\n",
       "      <td>-73.94947</td>\n",
       "      <td>Entire home/apt</td>\n",
       "      <td>5</td>\n",
       "      <td>23</td>\n",
       "      <td>2019-06-17</td>\n",
       "      <td>0.95</td>\n",
       "      <td>1</td>\n",
       "      <td>1</td>\n",
       "    </tr>\n",
       "  </tbody>\n",
       "</table>\n",
       "<p>14669 rows × 15 columns</p>\n",
       "</div>"
      ],
      "text/plain": [
       "             id                                               name    host_id  \\\n",
       "0       1525602                    Perfect Temporary Brooklyn Home    1200603   \n",
       "1      30430185                        BIG APPLE - COMFY KING ROOM  224414117   \n",
       "2      21354525  Cozy Brooklyn Heights Getaway w/ Manhattan Access   11743513   \n",
       "3      35995074  Amazing*Quiet*Sunny*Bedroom*PrivateLivingRm*Ch...    4128829   \n",
       "4      34392081  Hello! This is a very cozy space in Williamsburg.  259630588   \n",
       "...         ...                                                ...        ...   \n",
       "14664  27730191  Stylish, Artsy & Comfortable Stay Near the Ocean.   32215382   \n",
       "14665  29676417                     New York Moments (Ladies Only)  223248121   \n",
       "14666   1813829                Enjoy Harlem Renassiance Sunny Room    9501531   \n",
       "14667  25017403                                       Glamping Van   10407935   \n",
       "14668  19057073    Bright central designer's apt - steps to train!     538008   \n",
       "\n",
       "      host_name neighbourhood_group       neighbourhood  latitude  longitude  \\\n",
       "0        Andrea            Brooklyn       Crown Heights  40.66751  -73.95867   \n",
       "1       Gabriel           Manhattan      Hell's Kitchen  40.75655  -73.99690   \n",
       "2         Henry            Brooklyn    Brooklyn Heights  40.69252  -73.99121   \n",
       "3          Sara              Queens    Ditmars Steinway  40.77292  -73.90101   \n",
       "4         Alina            Brooklyn        Williamsburg  40.71863  -73.94980   \n",
       "...         ...                 ...                 ...       ...        ...   \n",
       "14664    Polina            Brooklyn      Sheepshead Bay  40.59446  -73.94289   \n",
       "14665     Julia           Manhattan            Kips Bay  40.74319  -73.98074   \n",
       "14666     Andre           Manhattan              Harlem  40.82519  -73.94530   \n",
       "14667      Meng           Manhattan              Nolita  40.72238  -73.99466   \n",
       "14668     Deren            Brooklyn  Bedford-Stuyvesant  40.68932  -73.94947   \n",
       "\n",
       "             room_type  minimum_nights  number_of_reviews last_review  \\\n",
       "0      Entire home/apt               2                121  2019-05-31   \n",
       "1         Private room               1                 18  2019-05-05   \n",
       "2         Private room               1                 87  2019-06-16   \n",
       "3         Private room               9                  0         NaN   \n",
       "4         Private room               1                 28  2019-06-26   \n",
       "...                ...             ...                ...         ...   \n",
       "14664  Entire home/apt               2                  1  2019-05-20   \n",
       "14665      Shared room               2                  1  2019-01-01   \n",
       "14666     Private room               1                 93  2019-07-02   \n",
       "14667  Entire home/apt               1                 15  2019-05-27   \n",
       "14668  Entire home/apt               5                 23  2019-06-17   \n",
       "\n",
       "       reviews_per_month  calculated_host_listings_count  availability_365  \n",
       "0                   1.70                               1                39  \n",
       "1                   2.49                              30               364  \n",
       "2                   4.29                               1               108  \n",
       "3                    NaN                               2               365  \n",
       "4                  14.00                               2                20  \n",
       "...                  ...                             ...               ...  \n",
       "14664               0.59                               1                36  \n",
       "14665               0.16                               1               365  \n",
       "14666               1.34                               3               358  \n",
       "14667               1.12                               8                34  \n",
       "14668               0.95                               1                 1  \n",
       "\n",
       "[14669 rows x 15 columns]"
      ]
     },
     "execution_count": 57,
     "metadata": {},
     "output_type": "execute_result"
    }
   ],
   "source": [
    "path1 = '../data/test.csv'\n",
    "data_t = pd.read_csv(path1)\n",
    "data_t"
   ]
  },
  {
   "cell_type": "code",
   "execution_count": 58,
   "metadata": {},
   "outputs": [
    {
     "name": "stdout",
     "output_type": "stream",
     "text": [
      "<class 'pandas.core.frame.DataFrame'>\n",
      "RangeIndex: 14669 entries, 0 to 14668\n",
      "Data columns (total 15 columns):\n",
      " #   Column                          Non-Null Count  Dtype  \n",
      "---  ------                          --------------  -----  \n",
      " 0   id                              14669 non-null  int64  \n",
      " 1   name                            14665 non-null  object \n",
      " 2   host_id                         14669 non-null  int64  \n",
      " 3   host_name                       14661 non-null  object \n",
      " 4   neighbourhood_group             14669 non-null  object \n",
      " 5   neighbourhood                   14669 non-null  object \n",
      " 6   latitude                        14669 non-null  float64\n",
      " 7   longitude                       14669 non-null  float64\n",
      " 8   room_type                       14669 non-null  object \n",
      " 9   minimum_nights                  14669 non-null  int64  \n",
      " 10  number_of_reviews               14669 non-null  int64  \n",
      " 11  last_review                     11599 non-null  object \n",
      " 12  reviews_per_month               11599 non-null  float64\n",
      " 13  calculated_host_listings_count  14669 non-null  int64  \n",
      " 14  availability_365                14669 non-null  int64  \n",
      "dtypes: float64(3), int64(6), object(6)\n",
      "memory usage: 1.7+ MB\n"
     ]
    }
   ],
   "source": [
    "data_t.info()"
   ]
  },
  {
   "cell_type": "code",
   "execution_count": 59,
   "metadata": {},
   "outputs": [
    {
     "data": {
      "text/plain": [
       "id                                   0\n",
       "name                                 4\n",
       "host_id                              0\n",
       "host_name                            8\n",
       "neighbourhood_group                  0\n",
       "neighbourhood                        0\n",
       "latitude                             0\n",
       "longitude                            0\n",
       "room_type                            0\n",
       "minimum_nights                       0\n",
       "number_of_reviews                    0\n",
       "last_review                       3070\n",
       "reviews_per_month                 3070\n",
       "calculated_host_listings_count       0\n",
       "availability_365                     0\n",
       "dtype: int64"
      ]
     },
     "execution_count": 59,
     "metadata": {},
     "output_type": "execute_result"
    }
   ],
   "source": [
    "data_t.isnull().sum()"
   ]
  },
  {
   "cell_type": "code",
   "execution_count": 60,
   "metadata": {},
   "outputs": [
    {
     "data": {
      "text/plain": [
       "0    3070\n",
       "Name: number_of_reviews, dtype: int64"
      ]
     },
     "execution_count": 60,
     "metadata": {},
     "output_type": "execute_result"
    }
   ],
   "source": [
    "data_t[data_t.last_review.isnull()]['number_of_reviews'].value_counts()"
   ]
  },
  {
   "cell_type": "code",
   "execution_count": 61,
   "metadata": {},
   "outputs": [],
   "source": [
    "data_t['id'] = data['id'].apply(lambda x : str(x))\n",
    "data_t.name.fillna('Anonymous Place',inplace = True)\n",
    "data_t['host_id'] = data['host_id'].apply(lambda x : str(x))\n",
    "data_t.host_name.fillna('Anonymous Name',inplace = True)\n",
    "data_t['last_review'].fillna('Not Applicable', inplace = True)\n",
    "data_t['reviews_per_month'].fillna(0, inplace = True)"
   ]
  },
  {
   "cell_type": "code",
   "execution_count": 62,
   "metadata": {},
   "outputs": [],
   "source": [
    "testing_data = data_t.copy()\n",
    "testing_data['room_type'] = testing_data['room_type'].astype('category').cat.codes\n",
    "testing_data['neighbourhood_group'] = testing_data['neighbourhood_group'].astype('category').cat.codes\n",
    "testing_data['neighbourhood'] = testing_data['neighbourhood'].astype('category').cat.codes\n",
    "testing_data.drop(['id', 'host_id', 'host_name'], axis = 1, inplace = True)"
   ]
  },
  {
   "cell_type": "code",
   "execution_count": 63,
   "metadata": {},
   "outputs": [
    {
     "data": {
      "text/html": [
       "<div>\n",
       "<style scoped>\n",
       "    .dataframe tbody tr th:only-of-type {\n",
       "        vertical-align: middle;\n",
       "    }\n",
       "\n",
       "    .dataframe tbody tr th {\n",
       "        vertical-align: top;\n",
       "    }\n",
       "\n",
       "    .dataframe thead th {\n",
       "        text-align: right;\n",
       "    }\n",
       "</style>\n",
       "<table border=\"1\" class=\"dataframe\">\n",
       "  <thead>\n",
       "    <tr style=\"text-align: right;\">\n",
       "      <th></th>\n",
       "      <th>neighbourhood_group</th>\n",
       "      <th>neighbourhood</th>\n",
       "      <th>latitude</th>\n",
       "      <th>longitude</th>\n",
       "      <th>room_type</th>\n",
       "      <th>minimum_nights</th>\n",
       "      <th>number_of_reviews</th>\n",
       "      <th>reviews_per_month</th>\n",
       "      <th>calculated_host_listings_count</th>\n",
       "      <th>availability_365</th>\n",
       "    </tr>\n",
       "  </thead>\n",
       "  <tbody>\n",
       "    <tr>\n",
       "      <th>0</th>\n",
       "      <td>1</td>\n",
       "      <td>49</td>\n",
       "      <td>40.66751</td>\n",
       "      <td>-73.95867</td>\n",
       "      <td>0</td>\n",
       "      <td>2</td>\n",
       "      <td>121</td>\n",
       "      <td>1.70</td>\n",
       "      <td>1</td>\n",
       "      <td>39</td>\n",
       "    </tr>\n",
       "    <tr>\n",
       "      <th>1</th>\n",
       "      <td>2</td>\n",
       "      <td>93</td>\n",
       "      <td>40.75655</td>\n",
       "      <td>-73.99690</td>\n",
       "      <td>1</td>\n",
       "      <td>1</td>\n",
       "      <td>18</td>\n",
       "      <td>2.49</td>\n",
       "      <td>30</td>\n",
       "      <td>364</td>\n",
       "    </tr>\n",
       "    <tr>\n",
       "      <th>2</th>\n",
       "      <td>1</td>\n",
       "      <td>24</td>\n",
       "      <td>40.69252</td>\n",
       "      <td>-73.99121</td>\n",
       "      <td>1</td>\n",
       "      <td>1</td>\n",
       "      <td>87</td>\n",
       "      <td>4.29</td>\n",
       "      <td>1</td>\n",
       "      <td>108</td>\n",
       "    </tr>\n",
       "    <tr>\n",
       "      <th>3</th>\n",
       "      <td>3</td>\n",
       "      <td>52</td>\n",
       "      <td>40.77292</td>\n",
       "      <td>-73.90101</td>\n",
       "      <td>1</td>\n",
       "      <td>9</td>\n",
       "      <td>0</td>\n",
       "      <td>0.00</td>\n",
       "      <td>2</td>\n",
       "      <td>365</td>\n",
       "    </tr>\n",
       "    <tr>\n",
       "      <th>4</th>\n",
       "      <td>1</td>\n",
       "      <td>200</td>\n",
       "      <td>40.71863</td>\n",
       "      <td>-73.94980</td>\n",
       "      <td>1</td>\n",
       "      <td>1</td>\n",
       "      <td>28</td>\n",
       "      <td>14.00</td>\n",
       "      <td>2</td>\n",
       "      <td>20</td>\n",
       "    </tr>\n",
       "    <tr>\n",
       "      <th>...</th>\n",
       "      <td>...</td>\n",
       "      <td>...</td>\n",
       "      <td>...</td>\n",
       "      <td>...</td>\n",
       "      <td>...</td>\n",
       "      <td>...</td>\n",
       "      <td>...</td>\n",
       "      <td>...</td>\n",
       "      <td>...</td>\n",
       "      <td>...</td>\n",
       "    </tr>\n",
       "    <tr>\n",
       "      <th>14664</th>\n",
       "      <td>1</td>\n",
       "      <td>165</td>\n",
       "      <td>40.59446</td>\n",
       "      <td>-73.94289</td>\n",
       "      <td>0</td>\n",
       "      <td>2</td>\n",
       "      <td>1</td>\n",
       "      <td>0.59</td>\n",
       "      <td>1</td>\n",
       "      <td>36</td>\n",
       "    </tr>\n",
       "    <tr>\n",
       "      <th>14665</th>\n",
       "      <td>2</td>\n",
       "      <td>109</td>\n",
       "      <td>40.74319</td>\n",
       "      <td>-73.98074</td>\n",
       "      <td>2</td>\n",
       "      <td>2</td>\n",
       "      <td>1</td>\n",
       "      <td>0.16</td>\n",
       "      <td>1</td>\n",
       "      <td>365</td>\n",
       "    </tr>\n",
       "    <tr>\n",
       "      <th>14666</th>\n",
       "      <td>2</td>\n",
       "      <td>92</td>\n",
       "      <td>40.82519</td>\n",
       "      <td>-73.94530</td>\n",
       "      <td>1</td>\n",
       "      <td>1</td>\n",
       "      <td>93</td>\n",
       "      <td>1.34</td>\n",
       "      <td>3</td>\n",
       "      <td>358</td>\n",
       "    </tr>\n",
       "    <tr>\n",
       "      <th>14667</th>\n",
       "      <td>2</td>\n",
       "      <td>139</td>\n",
       "      <td>40.72238</td>\n",
       "      <td>-73.99466</td>\n",
       "      <td>0</td>\n",
       "      <td>1</td>\n",
       "      <td>15</td>\n",
       "      <td>1.12</td>\n",
       "      <td>8</td>\n",
       "      <td>34</td>\n",
       "    </tr>\n",
       "    <tr>\n",
       "      <th>14668</th>\n",
       "      <td>1</td>\n",
       "      <td>13</td>\n",
       "      <td>40.68932</td>\n",
       "      <td>-73.94947</td>\n",
       "      <td>0</td>\n",
       "      <td>5</td>\n",
       "      <td>23</td>\n",
       "      <td>0.95</td>\n",
       "      <td>1</td>\n",
       "      <td>1</td>\n",
       "    </tr>\n",
       "  </tbody>\n",
       "</table>\n",
       "<p>14669 rows × 10 columns</p>\n",
       "</div>"
      ],
      "text/plain": [
       "       neighbourhood_group  neighbourhood  latitude  longitude  room_type  \\\n",
       "0                        1             49  40.66751  -73.95867          0   \n",
       "1                        2             93  40.75655  -73.99690          1   \n",
       "2                        1             24  40.69252  -73.99121          1   \n",
       "3                        3             52  40.77292  -73.90101          1   \n",
       "4                        1            200  40.71863  -73.94980          1   \n",
       "...                    ...            ...       ...        ...        ...   \n",
       "14664                    1            165  40.59446  -73.94289          0   \n",
       "14665                    2            109  40.74319  -73.98074          2   \n",
       "14666                    2             92  40.82519  -73.94530          1   \n",
       "14667                    2            139  40.72238  -73.99466          0   \n",
       "14668                    1             13  40.68932  -73.94947          0   \n",
       "\n",
       "       minimum_nights  number_of_reviews  reviews_per_month  \\\n",
       "0                   2                121               1.70   \n",
       "1                   1                 18               2.49   \n",
       "2                   1                 87               4.29   \n",
       "3                   9                  0               0.00   \n",
       "4                   1                 28              14.00   \n",
       "...               ...                ...                ...   \n",
       "14664               2                  1               0.59   \n",
       "14665               2                  1               0.16   \n",
       "14666               1                 93               1.34   \n",
       "14667               1                 15               1.12   \n",
       "14668               5                 23               0.95   \n",
       "\n",
       "       calculated_host_listings_count  availability_365  \n",
       "0                                   1                39  \n",
       "1                                  30               364  \n",
       "2                                   1               108  \n",
       "3                                   2               365  \n",
       "4                                   2                20  \n",
       "...                               ...               ...  \n",
       "14664                               1                36  \n",
       "14665                               1               365  \n",
       "14666                               3               358  \n",
       "14667                               8                34  \n",
       "14668                               1                 1  \n",
       "\n",
       "[14669 rows x 10 columns]"
      ]
     },
     "execution_count": 63,
     "metadata": {},
     "output_type": "execute_result"
    }
   ],
   "source": [
    "num_var_t = testing_data.select_dtypes(include = 'number')\n",
    "num_var_t"
   ]
  },
  {
   "cell_type": "code",
   "execution_count": 64,
   "metadata": {},
   "outputs": [
    {
     "data": {
      "text/html": [
       "<div>\n",
       "<style scoped>\n",
       "    .dataframe tbody tr th:only-of-type {\n",
       "        vertical-align: middle;\n",
       "    }\n",
       "\n",
       "    .dataframe tbody tr th {\n",
       "        vertical-align: top;\n",
       "    }\n",
       "\n",
       "    .dataframe thead th {\n",
       "        text-align: right;\n",
       "    }\n",
       "</style>\n",
       "<table border=\"1\" class=\"dataframe\">\n",
       "  <thead>\n",
       "    <tr style=\"text-align: right;\">\n",
       "      <th></th>\n",
       "      <th>neighbourhood_group</th>\n",
       "      <th>neighbourhood</th>\n",
       "      <th>latitude</th>\n",
       "      <th>longitude</th>\n",
       "      <th>room_type</th>\n",
       "      <th>price</th>\n",
       "      <th>minimum_nights</th>\n",
       "      <th>number_of_reviews</th>\n",
       "      <th>reviews_per_month</th>\n",
       "      <th>calculated_host_listings_count</th>\n",
       "      <th>availability_365</th>\n",
       "    </tr>\n",
       "  </thead>\n",
       "  <tbody>\n",
       "    <tr>\n",
       "      <th>0</th>\n",
       "      <td>2</td>\n",
       "      <td>137</td>\n",
       "      <td>40.72217</td>\n",
       "      <td>-73.99481</td>\n",
       "      <td>1</td>\n",
       "      <td>120</td>\n",
       "      <td>7</td>\n",
       "      <td>3</td>\n",
       "      <td>0.06</td>\n",
       "      <td>3</td>\n",
       "      <td>0</td>\n",
       "    </tr>\n",
       "    <tr>\n",
       "      <th>7</th>\n",
       "      <td>1</td>\n",
       "      <td>76</td>\n",
       "      <td>40.69064</td>\n",
       "      <td>-73.97898</td>\n",
       "      <td>0</td>\n",
       "      <td>200</td>\n",
       "      <td>5</td>\n",
       "      <td>0</td>\n",
       "      <td>0.00</td>\n",
       "      <td>1</td>\n",
       "      <td>0</td>\n",
       "    </tr>\n",
       "    <tr>\n",
       "      <th>12</th>\n",
       "      <td>2</td>\n",
       "      <td>89</td>\n",
       "      <td>40.81619</td>\n",
       "      <td>-73.93798</td>\n",
       "      <td>0</td>\n",
       "      <td>77</td>\n",
       "      <td>1</td>\n",
       "      <td>2</td>\n",
       "      <td>0.05</td>\n",
       "      <td>1</td>\n",
       "      <td>0</td>\n",
       "    </tr>\n",
       "    <tr>\n",
       "      <th>14</th>\n",
       "      <td>2</td>\n",
       "      <td>90</td>\n",
       "      <td>40.76159</td>\n",
       "      <td>-73.99824</td>\n",
       "      <td>1</td>\n",
       "      <td>69</td>\n",
       "      <td>2</td>\n",
       "      <td>22</td>\n",
       "      <td>0.64</td>\n",
       "      <td>2</td>\n",
       "      <td>7</td>\n",
       "    </tr>\n",
       "    <tr>\n",
       "      <th>17</th>\n",
       "      <td>1</td>\n",
       "      <td>202</td>\n",
       "      <td>40.71417</td>\n",
       "      <td>-73.94123</td>\n",
       "      <td>0</td>\n",
       "      <td>94</td>\n",
       "      <td>3</td>\n",
       "      <td>4</td>\n",
       "      <td>1.32</td>\n",
       "      <td>1</td>\n",
       "      <td>31</td>\n",
       "    </tr>\n",
       "    <tr>\n",
       "      <th>...</th>\n",
       "      <td>...</td>\n",
       "      <td>...</td>\n",
       "      <td>...</td>\n",
       "      <td>...</td>\n",
       "      <td>...</td>\n",
       "      <td>...</td>\n",
       "      <td>...</td>\n",
       "      <td>...</td>\n",
       "      <td>...</td>\n",
       "      <td>...</td>\n",
       "      <td>...</td>\n",
       "    </tr>\n",
       "    <tr>\n",
       "      <th>34218</th>\n",
       "      <td>2</td>\n",
       "      <td>190</td>\n",
       "      <td>40.79613</td>\n",
       "      <td>-73.96658</td>\n",
       "      <td>1</td>\n",
       "      <td>60</td>\n",
       "      <td>2</td>\n",
       "      <td>23</td>\n",
       "      <td>0.62</td>\n",
       "      <td>1</td>\n",
       "      <td>0</td>\n",
       "    </tr>\n",
       "    <tr>\n",
       "      <th>34221</th>\n",
       "      <td>3</td>\n",
       "      <td>157</td>\n",
       "      <td>40.70602</td>\n",
       "      <td>-73.90485</td>\n",
       "      <td>0</td>\n",
       "      <td>80</td>\n",
       "      <td>5</td>\n",
       "      <td>2</td>\n",
       "      <td>0.21</td>\n",
       "      <td>1</td>\n",
       "      <td>0</td>\n",
       "    </tr>\n",
       "    <tr>\n",
       "      <th>34223</th>\n",
       "      <td>2</td>\n",
       "      <td>97</td>\n",
       "      <td>40.86912</td>\n",
       "      <td>-73.92183</td>\n",
       "      <td>0</td>\n",
       "      <td>195</td>\n",
       "      <td>2</td>\n",
       "      <td>6</td>\n",
       "      <td>0.53</td>\n",
       "      <td>1</td>\n",
       "      <td>0</td>\n",
       "    </tr>\n",
       "    <tr>\n",
       "      <th>34224</th>\n",
       "      <td>1</td>\n",
       "      <td>26</td>\n",
       "      <td>40.69709</td>\n",
       "      <td>-73.91435</td>\n",
       "      <td>1</td>\n",
       "      <td>80</td>\n",
       "      <td>3</td>\n",
       "      <td>0</td>\n",
       "      <td>0.00</td>\n",
       "      <td>1</td>\n",
       "      <td>0</td>\n",
       "    </tr>\n",
       "    <tr>\n",
       "      <th>34225</th>\n",
       "      <td>1</td>\n",
       "      <td>11</td>\n",
       "      <td>40.69076</td>\n",
       "      <td>-73.92886</td>\n",
       "      <td>0</td>\n",
       "      <td>69</td>\n",
       "      <td>4</td>\n",
       "      <td>5</td>\n",
       "      <td>0.13</td>\n",
       "      <td>1</td>\n",
       "      <td>0</td>\n",
       "    </tr>\n",
       "  </tbody>\n",
       "</table>\n",
       "<p>17850 rows × 11 columns</p>\n",
       "</div>"
      ],
      "text/plain": [
       "       neighbourhood_group  neighbourhood  latitude  longitude  room_type  \\\n",
       "0                        2            137  40.72217  -73.99481          1   \n",
       "7                        1             76  40.69064  -73.97898          0   \n",
       "12                       2             89  40.81619  -73.93798          0   \n",
       "14                       2             90  40.76159  -73.99824          1   \n",
       "17                       1            202  40.71417  -73.94123          0   \n",
       "...                    ...            ...       ...        ...        ...   \n",
       "34218                    2            190  40.79613  -73.96658          1   \n",
       "34221                    3            157  40.70602  -73.90485          0   \n",
       "34223                    2             97  40.86912  -73.92183          0   \n",
       "34224                    1             26  40.69709  -73.91435          1   \n",
       "34225                    1             11  40.69076  -73.92886          0   \n",
       "\n",
       "       price  minimum_nights  number_of_reviews  reviews_per_month  \\\n",
       "0        120               7                  3               0.06   \n",
       "7        200               5                  0               0.00   \n",
       "12        77               1                  2               0.05   \n",
       "14        69               2                 22               0.64   \n",
       "17        94               3                  4               1.32   \n",
       "...      ...             ...                ...                ...   \n",
       "34218     60               2                 23               0.62   \n",
       "34221     80               5                  2               0.21   \n",
       "34223    195               2                  6               0.53   \n",
       "34224     80               3                  0               0.00   \n",
       "34225     69               4                  5               0.13   \n",
       "\n",
       "       calculated_host_listings_count  availability_365  \n",
       "0                                   3                 0  \n",
       "7                                   1                 0  \n",
       "12                                  1                 0  \n",
       "14                                  2                 7  \n",
       "17                                  1                31  \n",
       "...                               ...               ...  \n",
       "34218                               1                 0  \n",
       "34221                               1                 0  \n",
       "34223                               1                 0  \n",
       "34224                               1                 0  \n",
       "34225                               1                 0  \n",
       "\n",
       "[17850 rows x 11 columns]"
      ]
     },
     "execution_count": 64,
     "metadata": {},
     "output_type": "execute_result"
    }
   ],
   "source": [
    "num_var"
   ]
  },
  {
   "cell_type": "markdown",
   "metadata": {},
   "source": [
    "### Predicting the value"
   ]
  },
  {
   "cell_type": "code",
   "execution_count": 65,
   "metadata": {},
   "outputs": [],
   "source": [
    "y_t_pred = lr.predict(num_var_t)"
   ]
  },
  {
   "cell_type": "code",
   "execution_count": 66,
   "metadata": {},
   "outputs": [
    {
     "data": {
      "text/plain": [
       "array([132.05147012, 190.91046415,  86.62966714, ..., 124.79713871,\n",
       "       189.47656918, 131.62158995])"
      ]
     },
     "execution_count": 66,
     "metadata": {},
     "output_type": "execute_result"
    }
   ],
   "source": [
    "y_t_pred"
   ]
  },
  {
   "cell_type": "markdown",
   "metadata": {},
   "source": [
    "### Preparing the submission file"
   ]
  },
  {
   "cell_type": "code",
   "execution_count": null,
   "metadata": {},
   "outputs": [],
   "source": [
    "# path2 = 'sample_submission.csv'\n",
    "# data_sub = pd.read_csv(path2)\n",
    "# data_sub['price'] = y_t_pred\n",
    "# csv_data = data_sub.to_csv('submission.csv', index = False)"
   ]
  }
 ],
 "metadata": {
  "kernelspec": {
   "display_name": "Python 3 (ipykernel)",
   "language": "python",
   "name": "python3"
  },
  "language_info": {
   "codemirror_mode": {
    "name": "ipython",
    "version": 3
   },
   "file_extension": ".py",
   "mimetype": "text/x-python",
   "name": "python",
   "nbconvert_exporter": "python",
   "pygments_lexer": "ipython3",
   "version": "3.8.12"
  }
 },
 "nbformat": 4,
 "nbformat_minor": 4
}
